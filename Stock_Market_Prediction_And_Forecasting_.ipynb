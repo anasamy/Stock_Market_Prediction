{
  "nbformat": 4,
  "nbformat_minor": 0,
  "metadata": {
    "kernelspec": {
      "display_name": "Python 3",
      "language": "python",
      "name": "python3"
    },
    "language_info": {
      "codemirror_mode": {
        "name": "ipython",
        "version": 3
      },
      "file_extension": ".py",
      "mimetype": "text/x-python",
      "name": "python",
      "nbconvert_exporter": "python",
      "pygments_lexer": "ipython3",
      "version": "3.9.1"
    },
    "colab": {
      "name": "Stock Market Prediction And Forecasting_.ipynb",
      "provenance": [],
      "collapsed_sections": []
    }
  },
  "cells": [
    {
      "cell_type": "markdown",
      "metadata": {
        "id": "1-sJ3zP7MyTa"
      },
      "source": [
        ""
      ]
    },
    {
      "cell_type": "markdown",
      "metadata": {
        "id": "kOPb1rtiihwn"
      },
      "source": [
        "### Stock Market Prediction And Forecasting Using Stacked LSTM\n",
        "\n",
        "1.   Élément de liste\n",
        "2.   Élément de liste\n",
        "\n"
      ]
    },
    {
      "cell_type": "code",
      "metadata": {
        "id": "Knqwia3YMw-4"
      },
      "source": [
        ""
      ],
      "execution_count": null,
      "outputs": []
    },
    {
      "cell_type": "code",
      "metadata": {
        "id": "O6OcZmlAihwu"
      },
      "source": [
        "### Keras and Tensorflow >2.0"
      ],
      "execution_count": null,
      "outputs": []
    },
    {
      "cell_type": "code",
      "metadata": {
        "id": "7_H0cG3Oihww"
      },
      "source": [
        "### Data Collection\n",
        "import pandas_datareader as pdr\n",
        "key=\"b4f4a7dcc631d6adf784088b588ce1c11dca1153\""
      ],
      "execution_count": null,
      "outputs": []
    },
    {
      "cell_type": "code",
      "metadata": {
        "id": "RkNmJUVWihwx"
      },
      "source": [
        "df = pdr.get_data_tiingo('AUDJPY', api_key=key)"
      ],
      "execution_count": null,
      "outputs": []
    },
    {
      "cell_type": "code",
      "metadata": {
        "id": "vT3eqwOCihwy"
      },
      "source": [
        "df.to_csv('AUDJPY.csv')"
      ],
      "execution_count": null,
      "outputs": []
    },
    {
      "cell_type": "code",
      "metadata": {
        "id": "Hd1fLZdrihwz"
      },
      "source": [
        "import pandas as pd"
      ],
      "execution_count": null,
      "outputs": []
    },
    {
      "cell_type": "code",
      "metadata": {
        "colab": {
          "base_uri": "https://localhost:8080/",
          "height": 234
        },
        "id": "U6M_XB8rihwz",
        "outputId": "83eed925-205f-4e96-cf20-c08eaa1ae999"
      },
      "source": [
        "df.head()"
      ],
      "execution_count": null,
      "outputs": [
        {
          "output_type": "execute_result",
          "data": {
            "text/html": [
              "<div>\n",
              "<style scoped>\n",
              "    .dataframe tbody tr th:only-of-type {\n",
              "        vertical-align: middle;\n",
              "    }\n",
              "\n",
              "    .dataframe tbody tr th {\n",
              "        vertical-align: top;\n",
              "    }\n",
              "\n",
              "    .dataframe thead th {\n",
              "        text-align: right;\n",
              "    }\n",
              "</style>\n",
              "<table border=\"1\" class=\"dataframe\">\n",
              "  <thead>\n",
              "    <tr style=\"text-align: right;\">\n",
              "      <th></th>\n",
              "      <th></th>\n",
              "      <th>close</th>\n",
              "      <th>high</th>\n",
              "      <th>low</th>\n",
              "      <th>open</th>\n",
              "      <th>volume</th>\n",
              "      <th>adjClose</th>\n",
              "      <th>adjHigh</th>\n",
              "      <th>adjLow</th>\n",
              "      <th>adjOpen</th>\n",
              "      <th>adjVolume</th>\n",
              "      <th>divCash</th>\n",
              "      <th>splitFactor</th>\n",
              "    </tr>\n",
              "    <tr>\n",
              "      <th>symbol</th>\n",
              "      <th>date</th>\n",
              "      <th></th>\n",
              "      <th></th>\n",
              "      <th></th>\n",
              "      <th></th>\n",
              "      <th></th>\n",
              "      <th></th>\n",
              "      <th></th>\n",
              "      <th></th>\n",
              "      <th></th>\n",
              "      <th></th>\n",
              "      <th></th>\n",
              "      <th></th>\n",
              "    </tr>\n",
              "  </thead>\n",
              "  <tbody>\n",
              "    <tr>\n",
              "      <th rowspan=\"5\" valign=\"top\">AUDJPY</th>\n",
              "      <th>2019-01-24 00:00:00+00:00</th>\n",
              "      <td>77.726995</td>\n",
              "      <td>77.786500</td>\n",
              "      <td>77.508995</td>\n",
              "      <td>77.713005</td>\n",
              "      <td>0</td>\n",
              "      <td>77.726995</td>\n",
              "      <td>77.786500</td>\n",
              "      <td>77.508995</td>\n",
              "      <td>77.713005</td>\n",
              "      <td>0</td>\n",
              "      <td>0.0</td>\n",
              "      <td>1.0</td>\n",
              "    </tr>\n",
              "    <tr>\n",
              "      <th>2019-01-25 00:00:00+00:00</th>\n",
              "      <td>78.642500</td>\n",
              "      <td>78.826495</td>\n",
              "      <td>77.615000</td>\n",
              "      <td>77.712990</td>\n",
              "      <td>0</td>\n",
              "      <td>78.642500</td>\n",
              "      <td>78.826495</td>\n",
              "      <td>77.615000</td>\n",
              "      <td>77.712990</td>\n",
              "      <td>0</td>\n",
              "      <td>0.0</td>\n",
              "      <td>1.0</td>\n",
              "    </tr>\n",
              "    <tr>\n",
              "      <th>2019-01-27 00:00:00+00:00</th>\n",
              "      <td>78.542500</td>\n",
              "      <td>78.708505</td>\n",
              "      <td>78.533500</td>\n",
              "      <td>78.705995</td>\n",
              "      <td>0</td>\n",
              "      <td>78.542500</td>\n",
              "      <td>78.708505</td>\n",
              "      <td>78.533500</td>\n",
              "      <td>78.705995</td>\n",
              "      <td>0</td>\n",
              "      <td>0.0</td>\n",
              "      <td>1.0</td>\n",
              "    </tr>\n",
              "    <tr>\n",
              "      <th>2019-01-28 00:00:00+00:00</th>\n",
              "      <td>78.303000</td>\n",
              "      <td>78.824000</td>\n",
              "      <td>78.201990</td>\n",
              "      <td>78.546000</td>\n",
              "      <td>0</td>\n",
              "      <td>78.303000</td>\n",
              "      <td>78.824000</td>\n",
              "      <td>78.201990</td>\n",
              "      <td>78.546000</td>\n",
              "      <td>0</td>\n",
              "      <td>0.0</td>\n",
              "      <td>1.0</td>\n",
              "    </tr>\n",
              "    <tr>\n",
              "      <th>2019-01-29 00:00:00+00:00</th>\n",
              "      <td>78.284505</td>\n",
              "      <td>78.478000</td>\n",
              "      <td>77.971000</td>\n",
              "      <td>78.303000</td>\n",
              "      <td>0</td>\n",
              "      <td>78.284505</td>\n",
              "      <td>78.478000</td>\n",
              "      <td>77.971000</td>\n",
              "      <td>78.303000</td>\n",
              "      <td>0</td>\n",
              "      <td>0.0</td>\n",
              "      <td>1.0</td>\n",
              "    </tr>\n",
              "  </tbody>\n",
              "</table>\n",
              "</div>"
            ],
            "text/plain": [
              "                                      close       high  ...  divCash  splitFactor\n",
              "symbol date                                             ...                      \n",
              "AUDJPY 2019-01-24 00:00:00+00:00  77.726995  77.786500  ...      0.0          1.0\n",
              "       2019-01-25 00:00:00+00:00  78.642500  78.826495  ...      0.0          1.0\n",
              "       2019-01-27 00:00:00+00:00  78.542500  78.708505  ...      0.0          1.0\n",
              "       2019-01-28 00:00:00+00:00  78.303000  78.824000  ...      0.0          1.0\n",
              "       2019-01-29 00:00:00+00:00  78.284505  78.478000  ...      0.0          1.0\n",
              "\n",
              "[5 rows x 12 columns]"
            ]
          },
          "metadata": {},
          "execution_count": 6
        }
      ]
    },
    {
      "cell_type": "code",
      "metadata": {
        "colab": {
          "base_uri": "https://localhost:8080/",
          "height": 234
        },
        "id": "8PdyHzrDihw2",
        "outputId": "fbc0e3f0-e001-4aec-fafe-a06dd8cbefdc"
      },
      "source": [
        "df.tail()"
      ],
      "execution_count": null,
      "outputs": [
        {
          "output_type": "execute_result",
          "data": {
            "text/html": [
              "<div>\n",
              "<style scoped>\n",
              "    .dataframe tbody tr th:only-of-type {\n",
              "        vertical-align: middle;\n",
              "    }\n",
              "\n",
              "    .dataframe tbody tr th {\n",
              "        vertical-align: top;\n",
              "    }\n",
              "\n",
              "    .dataframe thead th {\n",
              "        text-align: right;\n",
              "    }\n",
              "</style>\n",
              "<table border=\"1\" class=\"dataframe\">\n",
              "  <thead>\n",
              "    <tr style=\"text-align: right;\">\n",
              "      <th></th>\n",
              "      <th></th>\n",
              "      <th>close</th>\n",
              "      <th>high</th>\n",
              "      <th>low</th>\n",
              "      <th>open</th>\n",
              "      <th>volume</th>\n",
              "      <th>adjClose</th>\n",
              "      <th>adjHigh</th>\n",
              "      <th>adjLow</th>\n",
              "      <th>adjOpen</th>\n",
              "      <th>adjVolume</th>\n",
              "      <th>divCash</th>\n",
              "      <th>splitFactor</th>\n",
              "    </tr>\n",
              "    <tr>\n",
              "      <th>symbol</th>\n",
              "      <th>date</th>\n",
              "      <th></th>\n",
              "      <th></th>\n",
              "      <th></th>\n",
              "      <th></th>\n",
              "      <th></th>\n",
              "      <th></th>\n",
              "      <th></th>\n",
              "      <th></th>\n",
              "      <th></th>\n",
              "      <th></th>\n",
              "      <th></th>\n",
              "      <th></th>\n",
              "    </tr>\n",
              "  </thead>\n",
              "  <tbody>\n",
              "    <tr>\n",
              "      <th rowspan=\"5\" valign=\"top\">AUDJPY</th>\n",
              "      <th>2021-10-18 00:00:00+00:00</th>\n",
              "      <td>84.7500</td>\n",
              "      <td>84.8975</td>\n",
              "      <td>84.2800</td>\n",
              "      <td>84.8900</td>\n",
              "      <td>0</td>\n",
              "      <td>84.7500</td>\n",
              "      <td>84.8975</td>\n",
              "      <td>84.2800</td>\n",
              "      <td>84.8900</td>\n",
              "      <td>0</td>\n",
              "      <td>0.0</td>\n",
              "      <td>1.0</td>\n",
              "    </tr>\n",
              "    <tr>\n",
              "      <th>2021-10-19 00:00:00+00:00</th>\n",
              "      <td>85.6250</td>\n",
              "      <td>85.6475</td>\n",
              "      <td>84.6950</td>\n",
              "      <td>84.7525</td>\n",
              "      <td>0</td>\n",
              "      <td>85.6250</td>\n",
              "      <td>85.6475</td>\n",
              "      <td>84.6950</td>\n",
              "      <td>84.7525</td>\n",
              "      <td>0</td>\n",
              "      <td>0.0</td>\n",
              "      <td>1.0</td>\n",
              "    </tr>\n",
              "    <tr>\n",
              "      <th>2021-10-20 00:00:00+00:00</th>\n",
              "      <td>85.9675</td>\n",
              "      <td>86.0275</td>\n",
              "      <td>85.4875</td>\n",
              "      <td>85.6225</td>\n",
              "      <td>0</td>\n",
              "      <td>85.9675</td>\n",
              "      <td>86.0275</td>\n",
              "      <td>85.4875</td>\n",
              "      <td>85.6225</td>\n",
              "      <td>0</td>\n",
              "      <td>0.0</td>\n",
              "      <td>1.0</td>\n",
              "    </tr>\n",
              "    <tr>\n",
              "      <th>2021-10-21 00:00:00+00:00</th>\n",
              "      <td>84.9725</td>\n",
              "      <td>86.2575</td>\n",
              "      <td>84.8925</td>\n",
              "      <td>85.9650</td>\n",
              "      <td>0</td>\n",
              "      <td>84.9725</td>\n",
              "      <td>86.2575</td>\n",
              "      <td>84.8925</td>\n",
              "      <td>85.9650</td>\n",
              "      <td>0</td>\n",
              "      <td>0.0</td>\n",
              "      <td>1.0</td>\n",
              "    </tr>\n",
              "    <tr>\n",
              "      <th>2021-10-22 00:00:00+00:00</th>\n",
              "      <td>84.7425</td>\n",
              "      <td>85.5475</td>\n",
              "      <td>84.6125</td>\n",
              "      <td>84.9750</td>\n",
              "      <td>0</td>\n",
              "      <td>84.7425</td>\n",
              "      <td>85.5475</td>\n",
              "      <td>84.6125</td>\n",
              "      <td>84.9750</td>\n",
              "      <td>0</td>\n",
              "      <td>0.0</td>\n",
              "      <td>1.0</td>\n",
              "    </tr>\n",
              "  </tbody>\n",
              "</table>\n",
              "</div>"
            ],
            "text/plain": [
              "                                    close     high  ...  divCash  splitFactor\n",
              "symbol date                                         ...                      \n",
              "AUDJPY 2021-10-18 00:00:00+00:00  84.7500  84.8975  ...      0.0          1.0\n",
              "       2021-10-19 00:00:00+00:00  85.6250  85.6475  ...      0.0          1.0\n",
              "       2021-10-20 00:00:00+00:00  85.9675  86.0275  ...      0.0          1.0\n",
              "       2021-10-21 00:00:00+00:00  84.9725  86.2575  ...      0.0          1.0\n",
              "       2021-10-22 00:00:00+00:00  84.7425  85.5475  ...      0.0          1.0\n",
              "\n",
              "[5 rows x 12 columns]"
            ]
          },
          "metadata": {},
          "execution_count": 7
        }
      ]
    },
    {
      "cell_type": "code",
      "metadata": {
        "id": "BXMAR1B3ihw3"
      },
      "source": [
        "df1=df.reset_index()['close']"
      ],
      "execution_count": null,
      "outputs": []
    },
    {
      "cell_type": "code",
      "metadata": {
        "colab": {
          "base_uri": "https://localhost:8080/"
        },
        "id": "vVWz1dI3ihw4",
        "outputId": "77c7762c-a5aa-4701-b6be-36d3f62dc0b5"
      },
      "source": [
        "df1"
      ],
      "execution_count": null,
      "outputs": [
        {
          "output_type": "execute_result",
          "data": {
            "text/plain": [
              "0      77.726995\n",
              "1      78.642500\n",
              "2      78.542500\n",
              "3      78.303000\n",
              "4      78.284505\n",
              "         ...    \n",
              "802    84.750000\n",
              "803    85.625000\n",
              "804    85.967500\n",
              "805    84.972500\n",
              "806    84.742500\n",
              "Name: close, Length: 807, dtype: float64"
            ]
          },
          "metadata": {},
          "execution_count": 9
        }
      ]
    },
    {
      "cell_type": "code",
      "metadata": {
        "colab": {
          "base_uri": "https://localhost:8080/",
          "height": 282
        },
        "id": "zlQ4gfnyihw5",
        "outputId": "214343b5-82de-432d-b1e9-bd90c4ee6dcc"
      },
      "source": [
        "import matplotlib.pyplot as plt\n",
        "plt.plot(df1)"
      ],
      "execution_count": null,
      "outputs": [
        {
          "output_type": "execute_result",
          "data": {
            "text/plain": [
              "[<matplotlib.lines.Line2D at 0x7f49a0e66ad0>]"
            ]
          },
          "metadata": {},
          "execution_count": 10
        },
        {
          "output_type": "display_data",
          "data": {
            "image/png": "[encoded data removed]",
            "text/plain": [
              "<Figure size 432x288 with 1 Axes>"
            ]
          },
          "metadata": {
            "needs_background": "light"
          }
        }
      ]
    },
    {
      "cell_type": "code",
      "metadata": {
        "id": "e9aeRx7Aihw6"
      },
      "source": [
        "### LSTM are sensitive to the scale of the data. so we apply MinMax scaler "
      ],
      "execution_count": null,
      "outputs": []
    },
    {
      "cell_type": "code",
      "metadata": {
        "id": "vP6oRUHAihw6"
      },
      "source": [
        "import numpy as np"
      ],
      "execution_count": null,
      "outputs": []
    },
    {
      "cell_type": "code",
      "metadata": {
        "colab": {
          "base_uri": "https://localhost:8080/"
        },
        "id": "y4osH9YXihw7",
        "outputId": "19994a07-191b-4052-ac0f-953f29375586"
      },
      "source": [
        "df1"
      ],
      "execution_count": null,
      "outputs": [
        {
          "output_type": "execute_result",
          "data": {
            "text/plain": [
              "0      77.726995\n",
              "1      78.642500\n",
              "2      78.542500\n",
              "3      78.303000\n",
              "4      78.284505\n",
              "         ...    \n",
              "802    84.750000\n",
              "803    85.625000\n",
              "804    85.967500\n",
              "805    84.972500\n",
              "806    84.742500\n",
              "Name: close, Length: 807, dtype: float64"
            ]
          },
          "metadata": {},
          "execution_count": 13
        }
      ]
    },
    {
      "cell_type": "code",
      "metadata": {
        "id": "ELEgofJUihw7"
      },
      "source": [
        "from sklearn.preprocessing import MinMaxScaler\n",
        "scaler=MinMaxScaler(feature_range=(0,1))\n",
        "df1=scaler.fit_transform(np.array(df1).reshape(-1,1))"
      ],
      "execution_count": null,
      "outputs": []
    },
    {
      "cell_type": "code",
      "metadata": {
        "id": "1Ql-4D57ihw7"
      },
      "source": [
        "print(df1)"
      ],
      "execution_count": null,
      "outputs": []
    },
    {
      "cell_type": "code",
      "metadata": {
        "id": "BnNn1UW3ihw8"
      },
      "source": [
        "##splitting dataset into train and test split\n",
        "training_size=int(len(df1)*0.65)\n",
        "test_size=len(df1)-training_size\n",
        "train_data,test_data=df1[0:training_size,:],df1[training_size:len(df1),:1]"
      ],
      "execution_count": null,
      "outputs": []
    },
    {
      "cell_type": "code",
      "metadata": {
        "colab": {
          "base_uri": "https://localhost:8080/"
        },
        "id": "GyRnOeECihw8",
        "outputId": "1ac73500-47bd-4a00-d05a-230fa5fca1b9"
      },
      "source": [
        "training_size,test_size"
      ],
      "execution_count": null,
      "outputs": [
        {
          "output_type": "execute_result",
          "data": {
            "text/plain": [
              "(524, 283)"
            ]
          },
          "metadata": {},
          "execution_count": 17
        }
      ]
    },
    {
      "cell_type": "code",
      "metadata": {
        "id": "R3-MZvojihw9"
      },
      "source": [
        "train_data"
      ],
      "execution_count": null,
      "outputs": []
    },
    {
      "cell_type": "code",
      "metadata": {
        "id": "B1yVFQo1ihw9"
      },
      "source": [
        "import numpy\n",
        "# convert an array of values into a dataset matrix\n",
        "def create_dataset(dataset, time_step=1):\n",
        "\tdataX, dataY = [], []\n",
        "\tfor i in range(len(dataset)-time_step-1):\n",
        "\t\ta = dataset[i:(i+time_step), 0]   ###i=0, 0,1,2,3-----99   100 \n",
        "\t\tdataX.append(a)\n",
        "\t\tdataY.append(dataset[i + time_step, 0])\n",
        "\treturn numpy.array(dataX), numpy.array(dataY)"
      ],
      "execution_count": null,
      "outputs": []
    },
    {
      "cell_type": "code",
      "metadata": {
        "id": "DHYgbNERihw9"
      },
      "source": [
        "# reshape into X=t,t+1,t+2,t+3 and Y=t+4\n",
        "time_step = 100\n",
        "X_train, y_train = create_dataset(train_data, time_step)\n",
        "X_test, ytest = create_dataset(test_data, time_step)"
      ],
      "execution_count": null,
      "outputs": []
    },
    {
      "cell_type": "code",
      "metadata": {
        "colab": {
          "base_uri": "https://localhost:8080/"
        },
        "id": "Zpq3VS7Mihw-",
        "outputId": "b2f887ca-c08e-493a-82c1-04cd9abc4f70"
      },
      "source": [
        "print(X_train.shape), print(y_train.shape)"
      ],
      "execution_count": null,
      "outputs": [
        {
          "output_type": "stream",
          "name": "stdout",
          "text": [
            "(423, 100)\n",
            "(423,)\n"
          ]
        },
        {
          "output_type": "execute_result",
          "data": {
            "text/plain": [
              "(None, None)"
            ]
          },
          "metadata": {},
          "execution_count": 21
        }
      ]
    },
    {
      "cell_type": "code",
      "metadata": {
        "colab": {
          "base_uri": "https://localhost:8080/"
        },
        "id": "eibAwq1Tihw-",
        "outputId": "196b7748-6f83-42df-a2a2-436ffe790c28"
      },
      "source": [
        "print(X_test.shape), print(ytest.shape)"
      ],
      "execution_count": null,
      "outputs": [
        {
          "output_type": "stream",
          "name": "stdout",
          "text": [
            "(182, 100)\n",
            "(182,)\n"
          ]
        },
        {
          "output_type": "execute_result",
          "data": {
            "text/plain": [
              "(None, None)"
            ]
          },
          "metadata": {},
          "execution_count": 22
        }
      ]
    },
    {
      "cell_type": "code",
      "metadata": {
        "id": "KU_kGT9iihw_"
      },
      "source": [
        "# reshape input to be [samples, time steps, features] which is required for LSTM\n",
        "X_train =X_train.reshape(X_train.shape[0],X_train.shape[1] , 1)\n",
        "X_test = X_test.reshape(X_test.shape[0],X_test.shape[1] , 1)"
      ],
      "execution_count": null,
      "outputs": []
    },
    {
      "cell_type": "code",
      "metadata": {
        "id": "afpYWBCrihw_"
      },
      "source": [
        "### Create the Stacked LSTM model\n",
        "from tensorflow.keras.models import Sequential\n",
        "from tensorflow.keras.layers import Dense\n",
        "from tensorflow.keras.layers import LSTM"
      ],
      "execution_count": null,
      "outputs": []
    },
    {
      "cell_type": "code",
      "metadata": {
        "id": "114Po_1cihw_"
      },
      "source": [
        "model=Sequential()\n",
        "model.add(LSTM(50,return_sequences=True,input_shape=(100,1)))\n",
        "model.add(LSTM(50,return_sequences=True))\n",
        "model.add(LSTM(50))\n",
        "model.add(Dense(1))\n",
        "model.compile(loss='mean_squared_error',optimizer='adam')\n"
      ],
      "execution_count": null,
      "outputs": []
    },
    {
      "cell_type": "code",
      "metadata": {
        "colab": {
          "base_uri": "https://localhost:8080/"
        },
        "id": "GSdfMg4Xihw_",
        "outputId": "c5ead294-568c-45c9-f864-05dd03694fc0"
      },
      "source": [
        "model.summary()"
      ],
      "execution_count": null,
      "outputs": [
        {
          "output_type": "stream",
          "name": "stdout",
          "text": [
            "Model: \"sequential\"\n",
            "_________________________________________________________________\n",
            "Layer (type)                 Output Shape              Param #   \n",
            "=================================================================\n",
            "lstm (LSTM)                  (None, 100, 50)           10400     \n",
            "_________________________________________________________________\n",
            "lstm_1 (LSTM)                (None, 100, 50)           20200     \n",
            "_________________________________________________________________\n",
            "lstm_2 (LSTM)                (None, 50)                20200     \n",
            "_________________________________________________________________\n",
            "dense (Dense)                (None, 1)                 51        \n",
            "=================================================================\n",
            "Total params: 50,851\n",
            "Trainable params: 50,851\n",
            "Non-trainable params: 0\n",
            "_________________________________________________________________\n"
          ]
        }
      ]
    },
    {
      "cell_type": "code",
      "metadata": {
        "colab": {
          "base_uri": "https://localhost:8080/"
        },
        "id": "5K1L74qGihxA",
        "outputId": "666620be-cb55-443f-8257-629ef141fe6e"
      },
      "source": [
        "model.summary()"
      ],
      "execution_count": null,
      "outputs": [
        {
          "output_type": "stream",
          "name": "stdout",
          "text": [
            "Model: \"sequential\"\n",
            "_________________________________________________________________\n",
            "Layer (type)                 Output Shape              Param #   \n",
            "=================================================================\n",
            "lstm (LSTM)                  (None, 100, 50)           10400     \n",
            "_________________________________________________________________\n",
            "lstm_1 (LSTM)                (None, 100, 50)           20200     \n",
            "_________________________________________________________________\n",
            "lstm_2 (LSTM)                (None, 50)                20200     \n",
            "_________________________________________________________________\n",
            "dense (Dense)                (None, 1)                 51        \n",
            "=================================================================\n",
            "Total params: 50,851\n",
            "Trainable params: 50,851\n",
            "Non-trainable params: 0\n",
            "_________________________________________________________________\n"
          ]
        }
      ]
    },
    {
      "cell_type": "code",
      "metadata": {
        "id": "x8UDHilMihxA"
      },
      "source": [
        ""
      ],
      "execution_count": null,
      "outputs": []
    },
    {
      "cell_type": "code",
      "metadata": {
        "colab": {
          "base_uri": "https://localhost:8080/"
        },
        "id": "gEzYKTKCihxA",
        "outputId": "47ae55dc-378d-4474-ff88-1b2877f3db24"
      },
      "source": [
        "model.fit(X_train,y_train,validation_data=(X_test,ytest),epochs=100,batch_size=64,verbose=1)"
      ],
      "execution_count": null,
      "outputs": [
        {
          "output_type": "stream",
          "name": "stdout",
          "text": [
            "Epoch 1/100\n",
            "7/7 [==============================] - 7s 383ms/step - loss: 0.0957 - val_loss: 0.0244\n",
            "Epoch 2/100\n",
            "7/7 [==============================] - 1s 175ms/step - loss: 0.0186 - val_loss: 0.0993\n",
            "Epoch 3/100\n",
            "7/7 [==============================] - 1s 178ms/step - loss: 0.0121 - val_loss: 0.0198\n",
            "Epoch 4/100\n",
            "7/7 [==============================] - 1s 176ms/step - loss: 0.0083 - val_loss: 0.0266\n",
            "Epoch 5/100\n",
            "7/7 [==============================] - 1s 180ms/step - loss: 0.0068 - val_loss: 0.0465\n",
            "Epoch 6/100\n",
            "7/7 [==============================] - 1s 175ms/step - loss: 0.0063 - val_loss: 0.0192\n",
            "Epoch 7/100\n",
            "7/7 [==============================] - 1s 176ms/step - loss: 0.0060 - val_loss: 0.0299\n",
            "Epoch 8/100\n",
            "7/7 [==============================] - 1s 178ms/step - loss: 0.0057 - val_loss: 0.0213\n",
            "Epoch 9/100\n",
            "7/7 [==============================] - 1s 178ms/step - loss: 0.0054 - val_loss: 0.0178\n",
            "Epoch 10/100\n",
            "7/7 [==============================] - 1s 177ms/step - loss: 0.0052 - val_loss: 0.0180\n",
            "Epoch 11/100\n",
            "7/7 [==============================] - 1s 176ms/step - loss: 0.0051 - val_loss: 0.0122\n",
            "Epoch 12/100\n",
            "7/7 [==============================] - 1s 175ms/step - loss: 0.0048 - val_loss: 0.0110\n",
            "Epoch 13/100\n",
            "7/7 [==============================] - 1s 175ms/step - loss: 0.0047 - val_loss: 0.0096\n",
            "Epoch 14/100\n",
            "7/7 [==============================] - 1s 172ms/step - loss: 0.0045 - val_loss: 0.0056\n",
            "Epoch 15/100\n",
            "7/7 [==============================] - 1s 176ms/step - loss: 0.0044 - val_loss: 0.0077\n",
            "Epoch 16/100\n",
            "7/7 [==============================] - 1s 178ms/step - loss: 0.0043 - val_loss: 0.0041\n",
            "Epoch 17/100\n",
            "7/7 [==============================] - 1s 175ms/step - loss: 0.0042 - val_loss: 0.0034\n",
            "Epoch 18/100\n",
            "7/7 [==============================] - 1s 176ms/step - loss: 0.0042 - val_loss: 0.0066\n",
            "Epoch 19/100\n",
            "7/7 [==============================] - 1s 177ms/step - loss: 0.0041 - val_loss: 0.0058\n",
            "Epoch 20/100\n",
            "7/7 [==============================] - 1s 176ms/step - loss: 0.0040 - val_loss: 0.0053\n",
            "Epoch 21/100\n",
            "7/7 [==============================] - 1s 179ms/step - loss: 0.0040 - val_loss: 0.0025\n",
            "Epoch 22/100\n",
            "7/7 [==============================] - 1s 177ms/step - loss: 0.0039 - val_loss: 0.0032\n",
            "Epoch 23/100\n",
            "7/7 [==============================] - 1s 175ms/step - loss: 0.0039 - val_loss: 0.0044\n",
            "Epoch 24/100\n",
            "7/7 [==============================] - 1s 177ms/step - loss: 0.0037 - val_loss: 0.0066\n",
            "Epoch 25/100\n",
            "7/7 [==============================] - 1s 179ms/step - loss: 0.0039 - val_loss: 0.0027\n",
            "Epoch 26/100\n",
            "7/7 [==============================] - 1s 175ms/step - loss: 0.0036 - val_loss: 0.0029\n",
            "Epoch 27/100\n",
            "7/7 [==============================] - 1s 176ms/step - loss: 0.0035 - val_loss: 0.0096\n",
            "Epoch 28/100\n",
            "7/7 [==============================] - 1s 174ms/step - loss: 0.0039 - val_loss: 0.0062\n",
            "Epoch 29/100\n",
            "7/7 [==============================] - 1s 175ms/step - loss: 0.0036 - val_loss: 0.0036\n",
            "Epoch 30/100\n",
            "7/7 [==============================] - 1s 177ms/step - loss: 0.0035 - val_loss: 0.0025\n",
            "Epoch 31/100\n",
            "7/7 [==============================] - 1s 174ms/step - loss: 0.0033 - val_loss: 0.0028\n",
            "Epoch 32/100\n",
            "7/7 [==============================] - 1s 176ms/step - loss: 0.0033 - val_loss: 0.0052\n",
            "Epoch 33/100\n",
            "7/7 [==============================] - 1s 181ms/step - loss: 0.0033 - val_loss: 0.0043\n",
            "Epoch 34/100\n",
            "7/7 [==============================] - 1s 177ms/step - loss: 0.0033 - val_loss: 0.0042\n",
            "Epoch 35/100\n",
            "7/7 [==============================] - 1s 176ms/step - loss: 0.0034 - val_loss: 0.0029\n",
            "Epoch 36/100\n",
            "7/7 [==============================] - 1s 174ms/step - loss: 0.0031 - val_loss: 0.0025\n",
            "Epoch 37/100\n",
            "7/7 [==============================] - 1s 176ms/step - loss: 0.0031 - val_loss: 0.0025\n",
            "Epoch 38/100\n",
            "7/7 [==============================] - 1s 175ms/step - loss: 0.0029 - val_loss: 0.0018\n",
            "Epoch 39/100\n",
            "7/7 [==============================] - 1s 178ms/step - loss: 0.0030 - val_loss: 0.0017\n",
            "Epoch 40/100\n",
            "7/7 [==============================] - 1s 176ms/step - loss: 0.0030 - val_loss: 0.0022\n",
            "Epoch 41/100\n",
            "7/7 [==============================] - 1s 176ms/step - loss: 0.0030 - val_loss: 0.0020\n",
            "Epoch 42/100\n",
            "7/7 [==============================] - 1s 176ms/step - loss: 0.0029 - val_loss: 0.0022\n",
            "Epoch 43/100\n",
            "7/7 [==============================] - 1s 176ms/step - loss: 0.0030 - val_loss: 0.0016\n",
            "Epoch 44/100\n",
            "7/7 [==============================] - 1s 176ms/step - loss: 0.0028 - val_loss: 0.0019\n",
            "Epoch 45/100\n",
            "7/7 [==============================] - 1s 177ms/step - loss: 0.0028 - val_loss: 0.0021\n",
            "Epoch 46/100\n",
            "7/7 [==============================] - 1s 174ms/step - loss: 0.0028 - val_loss: 0.0023\n",
            "Epoch 47/100\n",
            "7/7 [==============================] - 1s 181ms/step - loss: 0.0028 - val_loss: 0.0039\n",
            "Epoch 48/100\n",
            "7/7 [==============================] - 1s 178ms/step - loss: 0.0028 - val_loss: 0.0055\n",
            "Epoch 49/100\n",
            "7/7 [==============================] - 1s 174ms/step - loss: 0.0027 - val_loss: 0.0042\n",
            "Epoch 50/100\n",
            "7/7 [==============================] - 1s 178ms/step - loss: 0.0025 - val_loss: 0.0024\n",
            "Epoch 51/100\n",
            "7/7 [==============================] - 1s 177ms/step - loss: 0.0025 - val_loss: 0.0028\n",
            "Epoch 52/100\n",
            "7/7 [==============================] - 1s 178ms/step - loss: 0.0024 - val_loss: 0.0014\n",
            "Epoch 53/100\n",
            "7/7 [==============================] - 1s 176ms/step - loss: 0.0023 - val_loss: 0.0027\n",
            "Epoch 54/100\n",
            "7/7 [==============================] - 1s 176ms/step - loss: 0.0023 - val_loss: 0.0022\n",
            "Epoch 55/100\n",
            "7/7 [==============================] - 1s 177ms/step - loss: 0.0023 - val_loss: 0.0017\n",
            "Epoch 56/100\n",
            "7/7 [==============================] - 1s 176ms/step - loss: 0.0023 - val_loss: 0.0020\n",
            "Epoch 57/100\n",
            "7/7 [==============================] - 1s 173ms/step - loss: 0.0022 - val_loss: 0.0021\n",
            "Epoch 58/100\n",
            "7/7 [==============================] - 1s 181ms/step - loss: 0.0022 - val_loss: 0.0020\n",
            "Epoch 59/100\n",
            "7/7 [==============================] - 1s 177ms/step - loss: 0.0022 - val_loss: 0.0015\n",
            "Epoch 60/100\n",
            "7/7 [==============================] - 1s 174ms/step - loss: 0.0021 - val_loss: 0.0018\n",
            "Epoch 61/100\n",
            "7/7 [==============================] - 1s 179ms/step - loss: 0.0022 - val_loss: 0.0070\n",
            "Epoch 62/100\n",
            "7/7 [==============================] - 1s 175ms/step - loss: 0.0025 - val_loss: 0.0067\n",
            "Epoch 63/100\n",
            "7/7 [==============================] - 1s 174ms/step - loss: 0.0023 - val_loss: 0.0045\n",
            "Epoch 64/100\n",
            "7/7 [==============================] - 1s 177ms/step - loss: 0.0021 - val_loss: 0.0025\n",
            "Epoch 65/100\n",
            "7/7 [==============================] - 1s 179ms/step - loss: 0.0020 - val_loss: 0.0016\n",
            "Epoch 66/100\n",
            "7/7 [==============================] - 1s 179ms/step - loss: 0.0020 - val_loss: 0.0018\n",
            "Epoch 67/100\n",
            "7/7 [==============================] - 1s 180ms/step - loss: 0.0020 - val_loss: 0.0014\n",
            "Epoch 68/100\n",
            "7/7 [==============================] - 1s 177ms/step - loss: 0.0020 - val_loss: 0.0012\n",
            "Epoch 69/100\n",
            "7/7 [==============================] - 1s 179ms/step - loss: 0.0020 - val_loss: 0.0018\n",
            "Epoch 70/100\n",
            "7/7 [==============================] - 1s 177ms/step - loss: 0.0019 - val_loss: 0.0015\n",
            "Epoch 71/100\n",
            "7/7 [==============================] - 1s 179ms/step - loss: 0.0019 - val_loss: 0.0013\n",
            "Epoch 72/100\n",
            "7/7 [==============================] - 1s 176ms/step - loss: 0.0020 - val_loss: 0.0019\n",
            "Epoch 73/100\n",
            "7/7 [==============================] - 1s 178ms/step - loss: 0.0021 - val_loss: 0.0017\n",
            "Epoch 74/100\n",
            "7/7 [==============================] - 1s 178ms/step - loss: 0.0020 - val_loss: 0.0040\n",
            "Epoch 75/100\n",
            "7/7 [==============================] - 1s 177ms/step - loss: 0.0019 - val_loss: 0.0070\n",
            "Epoch 76/100\n",
            "7/7 [==============================] - 1s 180ms/step - loss: 0.0020 - val_loss: 0.0059\n",
            "Epoch 77/100\n",
            "7/7 [==============================] - 1s 174ms/step - loss: 0.0018 - val_loss: 0.0044\n",
            "Epoch 78/100\n",
            "7/7 [==============================] - 1s 176ms/step - loss: 0.0018 - val_loss: 0.0073\n",
            "Epoch 79/100\n",
            "7/7 [==============================] - 1s 177ms/step - loss: 0.0020 - val_loss: 0.0054\n",
            "Epoch 80/100\n",
            "7/7 [==============================] - 1s 176ms/step - loss: 0.0019 - val_loss: 0.0091\n",
            "Epoch 81/100\n",
            "7/7 [==============================] - 1s 178ms/step - loss: 0.0020 - val_loss: 0.0057\n",
            "Epoch 82/100\n",
            "7/7 [==============================] - 1s 176ms/step - loss: 0.0018 - val_loss: 0.0026\n",
            "Epoch 83/100\n",
            "7/7 [==============================] - 1s 178ms/step - loss: 0.0018 - val_loss: 0.0034\n",
            "Epoch 84/100\n",
            "7/7 [==============================] - 1s 178ms/step - loss: 0.0016 - val_loss: 0.0042\n",
            "Epoch 85/100\n",
            "7/7 [==============================] - 1s 178ms/step - loss: 0.0016 - val_loss: 0.0054\n",
            "Epoch 86/100\n",
            "7/7 [==============================] - 1s 176ms/step - loss: 0.0016 - val_loss: 0.0026\n",
            "Epoch 87/100\n",
            "7/7 [==============================] - 1s 177ms/step - loss: 0.0016 - val_loss: 0.0054\n",
            "Epoch 88/100\n",
            "7/7 [==============================] - 1s 176ms/step - loss: 0.0017 - val_loss: 0.0035\n",
            "Epoch 89/100\n",
            "7/7 [==============================] - 1s 179ms/step - loss: 0.0015 - val_loss: 0.0031\n",
            "Epoch 90/100\n",
            "7/7 [==============================] - 1s 177ms/step - loss: 0.0015 - val_loss: 0.0014\n",
            "Epoch 91/100\n",
            "7/7 [==============================] - 1s 180ms/step - loss: 0.0015 - val_loss: 0.0027\n",
            "Epoch 92/100\n",
            "7/7 [==============================] - 1s 179ms/step - loss: 0.0014 - val_loss: 0.0021\n",
            "Epoch 93/100\n",
            "7/7 [==============================] - 1s 177ms/step - loss: 0.0015 - val_loss: 0.0025\n",
            "Epoch 94/100\n",
            "7/7 [==============================] - 1s 178ms/step - loss: 0.0014 - val_loss: 0.0053\n",
            "Epoch 95/100\n",
            "7/7 [==============================] - 1s 177ms/step - loss: 0.0015 - val_loss: 0.0022\n",
            "Epoch 96/100\n",
            "7/7 [==============================] - 1s 183ms/step - loss: 0.0015 - val_loss: 9.8593e-04\n",
            "Epoch 97/100\n",
            "7/7 [==============================] - 1s 185ms/step - loss: 0.0017 - val_loss: 0.0020\n",
            "Epoch 98/100\n",
            "7/7 [==============================] - 1s 177ms/step - loss: 0.0016 - val_loss: 0.0028\n",
            "Epoch 99/100\n",
            "7/7 [==============================] - 1s 177ms/step - loss: 0.0014 - val_loss: 0.0037\n",
            "Epoch 100/100\n",
            "7/7 [==============================] - 1s 181ms/step - loss: 0.0013 - val_loss: 0.0053\n"
          ]
        },
        {
          "output_type": "execute_result",
          "data": {
            "text/plain": [
              "<keras.callbacks.History at 0x7f4946ba5a10>"
            ]
          },
          "metadata": {},
          "execution_count": 28
        }
      ]
    },
    {
      "cell_type": "code",
      "metadata": {
        "id": "v7nMWR-6ihxA"
      },
      "source": [
        "import tensorflow as tf"
      ],
      "execution_count": null,
      "outputs": []
    },
    {
      "cell_type": "code",
      "metadata": {
        "colab": {
          "base_uri": "https://localhost:8080/",
          "height": 35
        },
        "id": "8du5MY35ihxA",
        "outputId": "5a546dc4-8210-4ea1-c421-9cfb9325f344"
      },
      "source": [
        "tf.__version__"
      ],
      "execution_count": null,
      "outputs": [
        {
          "output_type": "execute_result",
          "data": {
            "application/vnd.google.colaboratory.intrinsic+json": {
              "type": "string"
            },
            "text/plain": [
              "'2.6.0'"
            ]
          },
          "metadata": {},
          "execution_count": 30
        }
      ]
    },
    {
      "cell_type": "code",
      "metadata": {
        "id": "4v2DP4Z_ihxB"
      },
      "source": [
        "### Lets Do the prediction and check performance metrics\n",
        "train_predict=model.predict(X_train)\n",
        "test_predict=model.predict(X_test)"
      ],
      "execution_count": null,
      "outputs": []
    },
    {
      "cell_type": "code",
      "metadata": {
        "id": "8ngBOPe-ihxB"
      },
      "source": [
        "##Transformback to original form\n",
        "train_predict=scaler.inverse_transform(train_predict)\n",
        "test_predict=scaler.inverse_transform(test_predict)"
      ],
      "execution_count": null,
      "outputs": []
    },
    {
      "cell_type": "code",
      "metadata": {
        "colab": {
          "base_uri": "https://localhost:8080/"
        },
        "id": "uYR6D3iGihxB",
        "outputId": "85d78d11-1276-4846-f977-fd870e6722b9"
      },
      "source": [
        "### Calculate RMSE performance metrics\n",
        "import math\n",
        "from sklearn.metrics import mean_squared_error\n",
        "math.sqrt(mean_squared_error(y_train,train_predict))"
      ],
      "execution_count": null,
      "outputs": [
        {
          "output_type": "execute_result",
          "data": {
            "text/plain": [
              "73.04136464325396"
            ]
          },
          "metadata": {},
          "execution_count": 33
        }
      ]
    },
    {
      "cell_type": "code",
      "metadata": {
        "colab": {
          "base_uri": "https://localhost:8080/"
        },
        "id": "rH81NEUcihxB",
        "outputId": "a748834e-0333-4ffa-98ca-4defdcad88c5"
      },
      "source": [
        "### Test Data RMSE\n",
        "math.sqrt(mean_squared_error(ytest,test_predict))"
      ],
      "execution_count": null,
      "outputs": [
        {
          "output_type": "execute_result",
          "data": {
            "text/plain": [
              "80.38080066511463"
            ]
          },
          "metadata": {},
          "execution_count": 34
        }
      ]
    },
    {
      "cell_type": "code",
      "metadata": {
        "colab": {
          "base_uri": "https://localhost:8080/",
          "height": 265
        },
        "id": "Ol62sk01ihxC",
        "outputId": "c9528da4-6793-4acf-bc22-20de4f9324a9"
      },
      "source": [
        "### Plotting \n",
        "# shift train predictions for plotting\n",
        "look_back=100\n",
        "trainPredictPlot = numpy.empty_like(df1)\n",
        "trainPredictPlot[:, :] = np.nan\n",
        "trainPredictPlot[look_back:len(train_predict)+look_back, :] = train_predict\n",
        "# shift test predictions for plotting\n",
        "testPredictPlot = numpy.empty_like(df1)\n",
        "testPredictPlot[:, :] = numpy.nan\n",
        "testPredictPlot[len(train_predict)+(look_back*2)+1:len(df1)-1, :] = test_predict\n",
        "# plot baseline and predictions\n",
        "plt.plot(scaler.inverse_transform(df1))\n",
        "plt.plot(trainPredictPlot)\n",
        "plt.plot(testPredictPlot)\n",
        "plt.show()"
      ],
      "execution_count": null,
      "outputs": [
        {
          "output_type": "display_data",
          "data": {
            "image/png": "[encoded data removed]",
            "text/plain": [
              "<Figure size 432x288 with 1 Axes>"
            ]
          },
          "metadata": {
            "needs_background": "light"
          }
        }
      ]
    },
    {
      "cell_type": "code",
      "metadata": {
        "colab": {
          "base_uri": "https://localhost:8080/"
        },
        "id": "2SLjWXkpihxC",
        "outputId": "c361232e-4e6f-412f-9a11-0e6b10022cc6"
      },
      "source": [
        "len(test_data)"
      ],
      "execution_count": null,
      "outputs": [
        {
          "output_type": "execute_result",
          "data": {
            "text/plain": [
              "283"
            ]
          },
          "metadata": {},
          "execution_count": 42
        }
      ]
    },
    {
      "cell_type": "code",
      "metadata": {
        "colab": {
          "base_uri": "https://localhost:8080/"
        },
        "id": "P75amt4jihxC",
        "outputId": "64ff96e6-1846-479e-a9d1-368a7e4d1cee"
      },
      "source": [
        "x_input=test_data[len(test_data)-100:].reshape(1,-1)\n",
        "x_input.shape\n"
      ],
      "execution_count": null,
      "outputs": [
        {
          "output_type": "execute_result",
          "data": {
            "text/plain": [
              "(1, 100)"
            ]
          },
          "metadata": {},
          "execution_count": 43
        }
      ]
    },
    {
      "cell_type": "code",
      "metadata": {
        "id": "BUnHoihSihxC"
      },
      "source": [
        ""
      ],
      "execution_count": null,
      "outputs": []
    },
    {
      "cell_type": "code",
      "metadata": {
        "id": "xhYnPGysihxC"
      },
      "source": [
        ""
      ],
      "execution_count": null,
      "outputs": []
    },
    {
      "cell_type": "code",
      "metadata": {
        "id": "dnDBBY1LihxD"
      },
      "source": [
        "temp_input=list(x_input)\n",
        "temp_input=temp_input[0].tolist()"
      ],
      "execution_count": null,
      "outputs": []
    },
    {
      "cell_type": "code",
      "metadata": {
        "colab": {
          "base_uri": "https://localhost:8080/"
        },
        "id": "6k2VMlx_ihxD",
        "outputId": "970c6853-d414-4425-f783-0050333626fb"
      },
      "source": [
        "temp_input"
      ],
      "execution_count": null,
      "outputs": [
        {
          "output_type": "execute_result",
          "data": {
            "text/plain": [
              "[0.8978182497059164,\n",
              " 0.8679113959613058,\n",
              " 0.8801460179477378,\n",
              " 0.8790131825786234,\n",
              " 0.8906813868804981,\n",
              " 0.8945330271354854,\n",
              " 0.8608878166727991,\n",
              " 0.856243191659432,\n",
              " 0.8028866457741621,\n",
              " 0.8411764812502156,\n",
              " 0.8452546885790255,\n",
              " 0.8429890178407979,\n",
              " 0.8535243867735582,\n",
              " 0.833246633666417,\n",
              " 0.797222468928592,\n",
              " 0.7935973957474265,\n",
              " 0.7831753103515782,\n",
              " 0.7463581608553729,\n",
              " 0.7599521852847406,\n",
              " 0.777284566432185,\n",
              " 0.7881597859756799,\n",
              " 0.7951833652641866,\n",
              " 0.7955232158749204,\n",
              " 0.7955232158749204,\n",
              " 0.7696945694591215,\n",
              " 0.7779642676536533,\n",
              " 0.7713938225127923,\n",
              " 0.7559872614928413,\n",
              " 0.7546278590499047,\n",
              " 0.7491902492781577,\n",
              " 0.7577997980834241,\n",
              " 0.7687883011638297,\n",
              " 0.7863472493850971,\n",
              " 0.778304118264388,\n",
              " 0.7693547188483869,\n",
              " 0.7689015847007417,\n",
              " 0.7786439688751217,\n",
              " 0.7911051579353763,\n",
              " 0.7770579993583624,\n",
              " 0.7641436761504625,\n",
              " 0.7634639749289942,\n",
              " 0.7395611486406883,\n",
              " 0.7058026546410905,\n",
              " 0.703650267439774,\n",
              " 0.6592431209705052,\n",
              " 0.6542586453464034,\n",
              " 0.657657151453745,\n",
              " 0.6871108710507094,\n",
              " 0.7088613101376988,\n",
              " 0.7308383162985108,\n",
              " 0.7141856363725343,\n",
              " 0.744092490117144,\n",
              " 0.746471444392284,\n",
              " 0.7365024931440809,\n",
              " 0.7540614413653479,\n",
              " 0.77932367009659,\n",
              " 0.7901988896400849,\n",
              " 0.8104766427472256,\n",
              " 0.8071914201767951,\n",
              " 0.8053788835862123,\n",
              " 0.7963162006333002,\n",
              " 0.7812494902240843,\n",
              " 0.7695812859222095,\n",
              " 0.7702609871436779,\n",
              " 0.7732063591033747,\n",
              " 0.7759251639892479,\n",
              " 0.7422799535265621,\n",
              " 0.7432995053587645,\n",
              " 0.7285726455602828,\n",
              " 0.7242678711576489,\n",
              " 0.724494438231472,\n",
              " 0.7046698192719769,\n",
              " 0.6799740082252912,\n",
              " 0.7038768345135971,\n",
              " 0.7531551730700565,\n",
              " 0.7491902492781577,\n",
              " 0.7512293529425631,\n",
              " 0.7652765115195761,\n",
              " 0.7655030785933996,\n",
              " 0.7459050267077267,\n",
              " 0.7557606944190187,\n",
              " 0.7572333803988669,\n",
              " 0.7621045724860571,\n",
              " 0.7700344200698552,\n",
              " 0.7864605329220082,\n",
              " 0.7809096396133497,\n",
              " 0.8067382860291494,\n",
              " 0.821125295216897,\n",
              " 0.8158009689820616,\n",
              " 0.8802593014846489,\n",
              " 0.8775404965987752,\n",
              " 0.8953260118938653,\n",
              " 0.9287446552827285,\n",
              " 0.9483427071684014,\n",
              " 0.9510615120542751,\n",
              " 0.9448309175241478,\n",
              " 0.9844801554431384,\n",
              " 1.0000000000000004,\n",
              " 0.9549131523092624,\n",
              " 0.9444910669134137]"
            ]
          },
          "metadata": {},
          "execution_count": 45
        }
      ]
    },
    {
      "cell_type": "code",
      "metadata": {
        "colab": {
          "base_uri": "https://localhost:8080/"
        },
        "id": "jLLrbYlbihxD",
        "outputId": "1e53dda4-866a-4366-a290-382bece6f27b"
      },
      "source": [
        "# demonstrate prediction for next 10 days\n",
        "from numpy import array\n",
        "\n",
        "lst_output=[]\n",
        "n_steps=100\n",
        "i=0\n",
        "while(i<30):\n",
        "    \n",
        "    if(len(temp_input)>100):\n",
        "        #print(temp_input)\n",
        "        x_input=np.array(temp_input[1:])\n",
        "        print(\"{} day input {}\".format(i,x_input))\n",
        "        x_input=x_input.reshape(1,-1)\n",
        "        x_input = x_input.reshape((1, n_steps, 1))\n",
        "        #print(x_input)\n",
        "        yhat = model.predict(x_input, verbose=0)\n",
        "        print(\"{} day output {}\".format(i,yhat))\n",
        "        temp_input.extend(yhat[0].tolist())\n",
        "        temp_input=temp_input[1:]\n",
        "        #print(temp_input)\n",
        "        lst_output.extend(yhat.tolist())\n",
        "        i=i+1\n",
        "    else:\n",
        "        x_input = x_input.reshape((1, n_steps,1))\n",
        "        yhat = model.predict(x_input, verbose=0)\n",
        "        print(yhat[0])\n",
        "        temp_input.extend(yhat[0].tolist())\n",
        "        print(len(temp_input))\n",
        "        lst_output.extend(yhat.tolist())\n",
        "        i=i+1\n",
        "    \n",
        "\n",
        "print(lst_output)"
      ],
      "execution_count": null,
      "outputs": [
        {
          "output_type": "stream",
          "name": "stdout",
          "text": [
            "[0.85183984]\n",
            "101\n",
            "1 day input [0.8679114  0.88014602 0.87901318 0.89068139 0.89453303 0.86088782\n",
            " 0.85624319 0.80288665 0.84117648 0.84525469 0.84298902 0.85352439\n",
            " 0.83324663 0.79722247 0.7935974  0.78317531 0.74635816 0.75995219\n",
            " 0.77728457 0.78815979 0.79518337 0.79552322 0.79552322 0.76969457\n",
            " 0.77796427 0.77139382 0.75598726 0.75462786 0.74919025 0.7577998\n",
            " 0.7687883  0.78634725 0.77830412 0.76935472 0.76890158 0.77864397\n",
            " 0.79110516 0.777058   0.76414368 0.76346397 0.73956115 0.70580265\n",
            " 0.70365027 0.65924312 0.65425865 0.65765715 0.68711087 0.70886131\n",
            " 0.73083832 0.71418564 0.74409249 0.74647144 0.73650249 0.75406144\n",
            " 0.77932367 0.79019889 0.81047664 0.80719142 0.80537888 0.7963162\n",
            " 0.78124949 0.76958129 0.77026099 0.77320636 0.77592516 0.74227995\n",
            " 0.74329951 0.72857265 0.72426787 0.72449444 0.70466982 0.67997401\n",
            " 0.70387683 0.75315517 0.74919025 0.75122935 0.76527651 0.76550308\n",
            " 0.74590503 0.75576069 0.75723338 0.76210457 0.77003442 0.78646053\n",
            " 0.78090964 0.80673829 0.8211253  0.81580097 0.8802593  0.8775405\n",
            " 0.89532601 0.92874466 0.94834271 0.95106151 0.94483092 0.98448016\n",
            " 1.         0.95491315 0.94449107 0.85183984]\n",
            "1 day output [[0.82552445]]\n",
            "2 day input [0.88014602 0.87901318 0.89068139 0.89453303 0.86088782 0.85624319\n",
            " 0.80288665 0.84117648 0.84525469 0.84298902 0.85352439 0.83324663\n",
            " 0.79722247 0.7935974  0.78317531 0.74635816 0.75995219 0.77728457\n",
            " 0.78815979 0.79518337 0.79552322 0.79552322 0.76969457 0.77796427\n",
            " 0.77139382 0.75598726 0.75462786 0.74919025 0.7577998  0.7687883\n",
            " 0.78634725 0.77830412 0.76935472 0.76890158 0.77864397 0.79110516\n",
            " 0.777058   0.76414368 0.76346397 0.73956115 0.70580265 0.70365027\n",
            " 0.65924312 0.65425865 0.65765715 0.68711087 0.70886131 0.73083832\n",
            " 0.71418564 0.74409249 0.74647144 0.73650249 0.75406144 0.77932367\n",
            " 0.79019889 0.81047664 0.80719142 0.80537888 0.7963162  0.78124949\n",
            " 0.76958129 0.77026099 0.77320636 0.77592516 0.74227995 0.74329951\n",
            " 0.72857265 0.72426787 0.72449444 0.70466982 0.67997401 0.70387683\n",
            " 0.75315517 0.74919025 0.75122935 0.76527651 0.76550308 0.74590503\n",
            " 0.75576069 0.75723338 0.76210457 0.77003442 0.78646053 0.78090964\n",
            " 0.80673829 0.8211253  0.81580097 0.8802593  0.8775405  0.89532601\n",
            " 0.92874466 0.94834271 0.95106151 0.94483092 0.98448016 1.\n",
            " 0.95491315 0.94449107 0.85183984 0.82552445]\n",
            "2 day output [[0.7944221]]\n",
            "3 day input [0.87901318 0.89068139 0.89453303 0.86088782 0.85624319 0.80288665\n",
            " 0.84117648 0.84525469 0.84298902 0.85352439 0.83324663 0.79722247\n",
            " 0.7935974  0.78317531 0.74635816 0.75995219 0.77728457 0.78815979\n",
            " 0.79518337 0.79552322 0.79552322 0.76969457 0.77796427 0.77139382\n",
            " 0.75598726 0.75462786 0.74919025 0.7577998  0.7687883  0.78634725\n",
            " 0.77830412 0.76935472 0.76890158 0.77864397 0.79110516 0.777058\n",
            " 0.76414368 0.76346397 0.73956115 0.70580265 0.70365027 0.65924312\n",
            " 0.65425865 0.65765715 0.68711087 0.70886131 0.73083832 0.71418564\n",
            " 0.74409249 0.74647144 0.73650249 0.75406144 0.77932367 0.79019889\n",
            " 0.81047664 0.80719142 0.80537888 0.7963162  0.78124949 0.76958129\n",
            " 0.77026099 0.77320636 0.77592516 0.74227995 0.74329951 0.72857265\n",
            " 0.72426787 0.72449444 0.70466982 0.67997401 0.70387683 0.75315517\n",
            " 0.74919025 0.75122935 0.76527651 0.76550308 0.74590503 0.75576069\n",
            " 0.75723338 0.76210457 0.77003442 0.78646053 0.78090964 0.80673829\n",
            " 0.8211253  0.81580097 0.8802593  0.8775405  0.89532601 0.92874466\n",
            " 0.94834271 0.95106151 0.94483092 0.98448016 1.         0.95491315\n",
            " 0.94449107 0.85183984 0.82552445 0.79442209]\n",
            "3 day output [[0.7674526]]\n",
            "4 day input [0.89068139 0.89453303 0.86088782 0.85624319 0.80288665 0.84117648\n",
            " 0.84525469 0.84298902 0.85352439 0.83324663 0.79722247 0.7935974\n",
            " 0.78317531 0.74635816 0.75995219 0.77728457 0.78815979 0.79518337\n",
            " 0.79552322 0.79552322 0.76969457 0.77796427 0.77139382 0.75598726\n",
            " 0.75462786 0.74919025 0.7577998  0.7687883  0.78634725 0.77830412\n",
            " 0.76935472 0.76890158 0.77864397 0.79110516 0.777058   0.76414368\n",
            " 0.76346397 0.73956115 0.70580265 0.70365027 0.65924312 0.65425865\n",
            " 0.65765715 0.68711087 0.70886131 0.73083832 0.71418564 0.74409249\n",
            " 0.74647144 0.73650249 0.75406144 0.77932367 0.79019889 0.81047664\n",
            " 0.80719142 0.80537888 0.7963162  0.78124949 0.76958129 0.77026099\n",
            " 0.77320636 0.77592516 0.74227995 0.74329951 0.72857265 0.72426787\n",
            " 0.72449444 0.70466982 0.67997401 0.70387683 0.75315517 0.74919025\n",
            " 0.75122935 0.76527651 0.76550308 0.74590503 0.75576069 0.75723338\n",
            " 0.76210457 0.77003442 0.78646053 0.78090964 0.80673829 0.8211253\n",
            " 0.81580097 0.8802593  0.8775405  0.89532601 0.92874466 0.94834271\n",
            " 0.95106151 0.94483092 0.98448016 1.         0.95491315 0.94449107\n",
            " 0.85183984 0.82552445 0.79442209 0.7674526 ]\n",
            "4 day output [[0.7473761]]\n",
            "5 day input [0.89453303 0.86088782 0.85624319 0.80288665 0.84117648 0.84525469\n",
            " 0.84298902 0.85352439 0.83324663 0.79722247 0.7935974  0.78317531\n",
            " 0.74635816 0.75995219 0.77728457 0.78815979 0.79518337 0.79552322\n",
            " 0.79552322 0.76969457 0.77796427 0.77139382 0.75598726 0.75462786\n",
            " 0.74919025 0.7577998  0.7687883  0.78634725 0.77830412 0.76935472\n",
            " 0.76890158 0.77864397 0.79110516 0.777058   0.76414368 0.76346397\n",
            " 0.73956115 0.70580265 0.70365027 0.65924312 0.65425865 0.65765715\n",
            " 0.68711087 0.70886131 0.73083832 0.71418564 0.74409249 0.74647144\n",
            " 0.73650249 0.75406144 0.77932367 0.79019889 0.81047664 0.80719142\n",
            " 0.80537888 0.7963162  0.78124949 0.76958129 0.77026099 0.77320636\n",
            " 0.77592516 0.74227995 0.74329951 0.72857265 0.72426787 0.72449444\n",
            " 0.70466982 0.67997401 0.70387683 0.75315517 0.74919025 0.75122935\n",
            " 0.76527651 0.76550308 0.74590503 0.75576069 0.75723338 0.76210457\n",
            " 0.77003442 0.78646053 0.78090964 0.80673829 0.8211253  0.81580097\n",
            " 0.8802593  0.8775405  0.89532601 0.92874466 0.94834271 0.95106151\n",
            " 0.94483092 0.98448016 1.         0.95491315 0.94449107 0.85183984\n",
            " 0.82552445 0.79442209 0.7674526  0.74737608]\n",
            "5 day output [[0.7340225]]\n",
            "6 day input [0.86088782 0.85624319 0.80288665 0.84117648 0.84525469 0.84298902\n",
            " 0.85352439 0.83324663 0.79722247 0.7935974  0.78317531 0.74635816\n",
            " 0.75995219 0.77728457 0.78815979 0.79518337 0.79552322 0.79552322\n",
            " 0.76969457 0.77796427 0.77139382 0.75598726 0.75462786 0.74919025\n",
            " 0.7577998  0.7687883  0.78634725 0.77830412 0.76935472 0.76890158\n",
            " 0.77864397 0.79110516 0.777058   0.76414368 0.76346397 0.73956115\n",
            " 0.70580265 0.70365027 0.65924312 0.65425865 0.65765715 0.68711087\n",
            " 0.70886131 0.73083832 0.71418564 0.74409249 0.74647144 0.73650249\n",
            " 0.75406144 0.77932367 0.79019889 0.81047664 0.80719142 0.80537888\n",
            " 0.7963162  0.78124949 0.76958129 0.77026099 0.77320636 0.77592516\n",
            " 0.74227995 0.74329951 0.72857265 0.72426787 0.72449444 0.70466982\n",
            " 0.67997401 0.70387683 0.75315517 0.74919025 0.75122935 0.76527651\n",
            " 0.76550308 0.74590503 0.75576069 0.75723338 0.76210457 0.77003442\n",
            " 0.78646053 0.78090964 0.80673829 0.8211253  0.81580097 0.8802593\n",
            " 0.8775405  0.89532601 0.92874466 0.94834271 0.95106151 0.94483092\n",
            " 0.98448016 1.         0.95491315 0.94449107 0.85183984 0.82552445\n",
            " 0.79442209 0.7674526  0.74737608 0.7340225 ]\n",
            "6 day output [[0.7260832]]\n",
            "7 day input [0.85624319 0.80288665 0.84117648 0.84525469 0.84298902 0.85352439\n",
            " 0.83324663 0.79722247 0.7935974  0.78317531 0.74635816 0.75995219\n",
            " 0.77728457 0.78815979 0.79518337 0.79552322 0.79552322 0.76969457\n",
            " 0.77796427 0.77139382 0.75598726 0.75462786 0.74919025 0.7577998\n",
            " 0.7687883  0.78634725 0.77830412 0.76935472 0.76890158 0.77864397\n",
            " 0.79110516 0.777058   0.76414368 0.76346397 0.73956115 0.70580265\n",
            " 0.70365027 0.65924312 0.65425865 0.65765715 0.68711087 0.70886131\n",
            " 0.73083832 0.71418564 0.74409249 0.74647144 0.73650249 0.75406144\n",
            " 0.77932367 0.79019889 0.81047664 0.80719142 0.80537888 0.7963162\n",
            " 0.78124949 0.76958129 0.77026099 0.77320636 0.77592516 0.74227995\n",
            " 0.74329951 0.72857265 0.72426787 0.72449444 0.70466982 0.67997401\n",
            " 0.70387683 0.75315517 0.74919025 0.75122935 0.76527651 0.76550308\n",
            " 0.74590503 0.75576069 0.75723338 0.76210457 0.77003442 0.78646053\n",
            " 0.78090964 0.80673829 0.8211253  0.81580097 0.8802593  0.8775405\n",
            " 0.89532601 0.92874466 0.94834271 0.95106151 0.94483092 0.98448016\n",
            " 1.         0.95491315 0.94449107 0.85183984 0.82552445 0.79442209\n",
            " 0.7674526  0.74737608 0.7340225  0.72608322]\n",
            "7 day output [[0.721864]]\n",
            "8 day input [0.80288665 0.84117648 0.84525469 0.84298902 0.85352439 0.83324663\n",
            " 0.79722247 0.7935974  0.78317531 0.74635816 0.75995219 0.77728457\n",
            " 0.78815979 0.79518337 0.79552322 0.79552322 0.76969457 0.77796427\n",
            " 0.77139382 0.75598726 0.75462786 0.74919025 0.7577998  0.7687883\n",
            " 0.78634725 0.77830412 0.76935472 0.76890158 0.77864397 0.79110516\n",
            " 0.777058   0.76414368 0.76346397 0.73956115 0.70580265 0.70365027\n",
            " 0.65924312 0.65425865 0.65765715 0.68711087 0.70886131 0.73083832\n",
            " 0.71418564 0.74409249 0.74647144 0.73650249 0.75406144 0.77932367\n",
            " 0.79019889 0.81047664 0.80719142 0.80537888 0.7963162  0.78124949\n",
            " 0.76958129 0.77026099 0.77320636 0.77592516 0.74227995 0.74329951\n",
            " 0.72857265 0.72426787 0.72449444 0.70466982 0.67997401 0.70387683\n",
            " 0.75315517 0.74919025 0.75122935 0.76527651 0.76550308 0.74590503\n",
            " 0.75576069 0.75723338 0.76210457 0.77003442 0.78646053 0.78090964\n",
            " 0.80673829 0.8211253  0.81580097 0.8802593  0.8775405  0.89532601\n",
            " 0.92874466 0.94834271 0.95106151 0.94483092 0.98448016 1.\n",
            " 0.95491315 0.94449107 0.85183984 0.82552445 0.79442209 0.7674526\n",
            " 0.74737608 0.7340225  0.72608322 0.72186399]\n",
            "8 day output [[0.7196452]]\n",
            "9 day input [0.84117648 0.84525469 0.84298902 0.85352439 0.83324663 0.79722247\n",
            " 0.7935974  0.78317531 0.74635816 0.75995219 0.77728457 0.78815979\n",
            " 0.79518337 0.79552322 0.79552322 0.76969457 0.77796427 0.77139382\n",
            " 0.75598726 0.75462786 0.74919025 0.7577998  0.7687883  0.78634725\n",
            " 0.77830412 0.76935472 0.76890158 0.77864397 0.79110516 0.777058\n",
            " 0.76414368 0.76346397 0.73956115 0.70580265 0.70365027 0.65924312\n",
            " 0.65425865 0.65765715 0.68711087 0.70886131 0.73083832 0.71418564\n",
            " 0.74409249 0.74647144 0.73650249 0.75406144 0.77932367 0.79019889\n",
            " 0.81047664 0.80719142 0.80537888 0.7963162  0.78124949 0.76958129\n",
            " 0.77026099 0.77320636 0.77592516 0.74227995 0.74329951 0.72857265\n",
            " 0.72426787 0.72449444 0.70466982 0.67997401 0.70387683 0.75315517\n",
            " 0.74919025 0.75122935 0.76527651 0.76550308 0.74590503 0.75576069\n",
            " 0.75723338 0.76210457 0.77003442 0.78646053 0.78090964 0.80673829\n",
            " 0.8211253  0.81580097 0.8802593  0.8775405  0.89532601 0.92874466\n",
            " 0.94834271 0.95106151 0.94483092 0.98448016 1.         0.95491315\n",
            " 0.94449107 0.85183984 0.82552445 0.79442209 0.7674526  0.74737608\n",
            " 0.7340225  0.72608322 0.72186399 0.7196452 ]\n",
            "9 day output [[0.7179109]]\n",
            "10 day input [0.84525469 0.84298902 0.85352439 0.83324663 0.79722247 0.7935974\n",
            " 0.78317531 0.74635816 0.75995219 0.77728457 0.78815979 0.79518337\n",
            " 0.79552322 0.79552322 0.76969457 0.77796427 0.77139382 0.75598726\n",
            " 0.75462786 0.74919025 0.7577998  0.7687883  0.78634725 0.77830412\n",
            " 0.76935472 0.76890158 0.77864397 0.79110516 0.777058   0.76414368\n",
            " 0.76346397 0.73956115 0.70580265 0.70365027 0.65924312 0.65425865\n",
            " 0.65765715 0.68711087 0.70886131 0.73083832 0.71418564 0.74409249\n",
            " 0.74647144 0.73650249 0.75406144 0.77932367 0.79019889 0.81047664\n",
            " 0.80719142 0.80537888 0.7963162  0.78124949 0.76958129 0.77026099\n",
            " 0.77320636 0.77592516 0.74227995 0.74329951 0.72857265 0.72426787\n",
            " 0.72449444 0.70466982 0.67997401 0.70387683 0.75315517 0.74919025\n",
            " 0.75122935 0.76527651 0.76550308 0.74590503 0.75576069 0.75723338\n",
            " 0.76210457 0.77003442 0.78646053 0.78090964 0.80673829 0.8211253\n",
            " 0.81580097 0.8802593  0.8775405  0.89532601 0.92874466 0.94834271\n",
            " 0.95106151 0.94483092 0.98448016 1.         0.95491315 0.94449107\n",
            " 0.85183984 0.82552445 0.79442209 0.7674526  0.74737608 0.7340225\n",
            " 0.72608322 0.72186399 0.7196452  0.71791089]\n",
            "10 day output [[0.71549594]]\n",
            "11 day input [0.84298902 0.85352439 0.83324663 0.79722247 0.7935974  0.78317531\n",
            " 0.74635816 0.75995219 0.77728457 0.78815979 0.79518337 0.79552322\n",
            " 0.79552322 0.76969457 0.77796427 0.77139382 0.75598726 0.75462786\n",
            " 0.74919025 0.7577998  0.7687883  0.78634725 0.77830412 0.76935472\n",
            " 0.76890158 0.77864397 0.79110516 0.777058   0.76414368 0.76346397\n",
            " 0.73956115 0.70580265 0.70365027 0.65924312 0.65425865 0.65765715\n",
            " 0.68711087 0.70886131 0.73083832 0.71418564 0.74409249 0.74647144\n",
            " 0.73650249 0.75406144 0.77932367 0.79019889 0.81047664 0.80719142\n",
            " 0.80537888 0.7963162  0.78124949 0.76958129 0.77026099 0.77320636\n",
            " 0.77592516 0.74227995 0.74329951 0.72857265 0.72426787 0.72449444\n",
            " 0.70466982 0.67997401 0.70387683 0.75315517 0.74919025 0.75122935\n",
            " 0.76527651 0.76550308 0.74590503 0.75576069 0.75723338 0.76210457\n",
            " 0.77003442 0.78646053 0.78090964 0.80673829 0.8211253  0.81580097\n",
            " 0.8802593  0.8775405  0.89532601 0.92874466 0.94834271 0.95106151\n",
            " 0.94483092 0.98448016 1.         0.95491315 0.94449107 0.85183984\n",
            " 0.82552445 0.79442209 0.7674526  0.74737608 0.7340225  0.72608322\n",
            " 0.72186399 0.7196452  0.71791089 0.71549594]\n",
            "11 day output [[0.71165496]]\n",
            "12 day input [0.85352439 0.83324663 0.79722247 0.7935974  0.78317531 0.74635816\n",
            " 0.75995219 0.77728457 0.78815979 0.79518337 0.79552322 0.79552322\n",
            " 0.76969457 0.77796427 0.77139382 0.75598726 0.75462786 0.74919025\n",
            " 0.7577998  0.7687883  0.78634725 0.77830412 0.76935472 0.76890158\n",
            " 0.77864397 0.79110516 0.777058   0.76414368 0.76346397 0.73956115\n",
            " 0.70580265 0.70365027 0.65924312 0.65425865 0.65765715 0.68711087\n",
            " 0.70886131 0.73083832 0.71418564 0.74409249 0.74647144 0.73650249\n",
            " 0.75406144 0.77932367 0.79019889 0.81047664 0.80719142 0.80537888\n",
            " 0.7963162  0.78124949 0.76958129 0.77026099 0.77320636 0.77592516\n",
            " 0.74227995 0.74329951 0.72857265 0.72426787 0.72449444 0.70466982\n",
            " 0.67997401 0.70387683 0.75315517 0.74919025 0.75122935 0.76527651\n",
            " 0.76550308 0.74590503 0.75576069 0.75723338 0.76210457 0.77003442\n",
            " 0.78646053 0.78090964 0.80673829 0.8211253  0.81580097 0.8802593\n",
            " 0.8775405  0.89532601 0.92874466 0.94834271 0.95106151 0.94483092\n",
            " 0.98448016 1.         0.95491315 0.94449107 0.85183984 0.82552445\n",
            " 0.79442209 0.7674526  0.74737608 0.7340225  0.72608322 0.72186399\n",
            " 0.7196452  0.71791089 0.71549594 0.71165496]\n",
            "12 day output [[0.70605683]]\n",
            "13 day input [0.83324663 0.79722247 0.7935974  0.78317531 0.74635816 0.75995219\n",
            " 0.77728457 0.78815979 0.79518337 0.79552322 0.79552322 0.76969457\n",
            " 0.77796427 0.77139382 0.75598726 0.75462786 0.74919025 0.7577998\n",
            " 0.7687883  0.78634725 0.77830412 0.76935472 0.76890158 0.77864397\n",
            " 0.79110516 0.777058   0.76414368 0.76346397 0.73956115 0.70580265\n",
            " 0.70365027 0.65924312 0.65425865 0.65765715 0.68711087 0.70886131\n",
            " 0.73083832 0.71418564 0.74409249 0.74647144 0.73650249 0.75406144\n",
            " 0.77932367 0.79019889 0.81047664 0.80719142 0.80537888 0.7963162\n",
            " 0.78124949 0.76958129 0.77026099 0.77320636 0.77592516 0.74227995\n",
            " 0.74329951 0.72857265 0.72426787 0.72449444 0.70466982 0.67997401\n",
            " 0.70387683 0.75315517 0.74919025 0.75122935 0.76527651 0.76550308\n",
            " 0.74590503 0.75576069 0.75723338 0.76210457 0.77003442 0.78646053\n",
            " 0.78090964 0.80673829 0.8211253  0.81580097 0.8802593  0.8775405\n",
            " 0.89532601 0.92874466 0.94834271 0.95106151 0.94483092 0.98448016\n",
            " 1.         0.95491315 0.94449107 0.85183984 0.82552445 0.79442209\n",
            " 0.7674526  0.74737608 0.7340225  0.72608322 0.72186399 0.7196452\n",
            " 0.71791089 0.71549594 0.71165496 0.70605683]\n",
            "13 day output [[0.69872373]]\n",
            "14 day input [0.79722247 0.7935974  0.78317531 0.74635816 0.75995219 0.77728457\n",
            " 0.78815979 0.79518337 0.79552322 0.79552322 0.76969457 0.77796427\n",
            " 0.77139382 0.75598726 0.75462786 0.74919025 0.7577998  0.7687883\n",
            " 0.78634725 0.77830412 0.76935472 0.76890158 0.77864397 0.79110516\n",
            " 0.777058   0.76414368 0.76346397 0.73956115 0.70580265 0.70365027\n",
            " 0.65924312 0.65425865 0.65765715 0.68711087 0.70886131 0.73083832\n",
            " 0.71418564 0.74409249 0.74647144 0.73650249 0.75406144 0.77932367\n",
            " 0.79019889 0.81047664 0.80719142 0.80537888 0.7963162  0.78124949\n",
            " 0.76958129 0.77026099 0.77320636 0.77592516 0.74227995 0.74329951\n",
            " 0.72857265 0.72426787 0.72449444 0.70466982 0.67997401 0.70387683\n",
            " 0.75315517 0.74919025 0.75122935 0.76527651 0.76550308 0.74590503\n",
            " 0.75576069 0.75723338 0.76210457 0.77003442 0.78646053 0.78090964\n",
            " 0.80673829 0.8211253  0.81580097 0.8802593  0.8775405  0.89532601\n",
            " 0.92874466 0.94834271 0.95106151 0.94483092 0.98448016 1.\n",
            " 0.95491315 0.94449107 0.85183984 0.82552445 0.79442209 0.7674526\n",
            " 0.74737608 0.7340225  0.72608322 0.72186399 0.7196452  0.71791089\n",
            " 0.71549594 0.71165496 0.70605683 0.69872373]\n",
            "14 day output [[0.6899393]]\n",
            "15 day input [0.7935974  0.78317531 0.74635816 0.75995219 0.77728457 0.78815979\n",
            " 0.79518337 0.79552322 0.79552322 0.76969457 0.77796427 0.77139382\n",
            " 0.75598726 0.75462786 0.74919025 0.7577998  0.7687883  0.78634725\n",
            " 0.77830412 0.76935472 0.76890158 0.77864397 0.79110516 0.777058\n",
            " 0.76414368 0.76346397 0.73956115 0.70580265 0.70365027 0.65924312\n",
            " 0.65425865 0.65765715 0.68711087 0.70886131 0.73083832 0.71418564\n",
            " 0.74409249 0.74647144 0.73650249 0.75406144 0.77932367 0.79019889\n",
            " 0.81047664 0.80719142 0.80537888 0.7963162  0.78124949 0.76958129\n",
            " 0.77026099 0.77320636 0.77592516 0.74227995 0.74329951 0.72857265\n",
            " 0.72426787 0.72449444 0.70466982 0.67997401 0.70387683 0.75315517\n",
            " 0.74919025 0.75122935 0.76527651 0.76550308 0.74590503 0.75576069\n",
            " 0.75723338 0.76210457 0.77003442 0.78646053 0.78090964 0.80673829\n",
            " 0.8211253  0.81580097 0.8802593  0.8775405  0.89532601 0.92874466\n",
            " 0.94834271 0.95106151 0.94483092 0.98448016 1.         0.95491315\n",
            " 0.94449107 0.85183984 0.82552445 0.79442209 0.7674526  0.74737608\n",
            " 0.7340225  0.72608322 0.72186399 0.7196452  0.71791089 0.71549594\n",
            " 0.71165496 0.70605683 0.69872373 0.68993932]\n",
            "15 day output [[0.68014187]]\n",
            "16 day input [0.78317531 0.74635816 0.75995219 0.77728457 0.78815979 0.79518337\n",
            " 0.79552322 0.79552322 0.76969457 0.77796427 0.77139382 0.75598726\n",
            " 0.75462786 0.74919025 0.7577998  0.7687883  0.78634725 0.77830412\n",
            " 0.76935472 0.76890158 0.77864397 0.79110516 0.777058   0.76414368\n",
            " 0.76346397 0.73956115 0.70580265 0.70365027 0.65924312 0.65425865\n",
            " 0.65765715 0.68711087 0.70886131 0.73083832 0.71418564 0.74409249\n",
            " 0.74647144 0.73650249 0.75406144 0.77932367 0.79019889 0.81047664\n",
            " 0.80719142 0.80537888 0.7963162  0.78124949 0.76958129 0.77026099\n",
            " 0.77320636 0.77592516 0.74227995 0.74329951 0.72857265 0.72426787\n",
            " 0.72449444 0.70466982 0.67997401 0.70387683 0.75315517 0.74919025\n",
            " 0.75122935 0.76527651 0.76550308 0.74590503 0.75576069 0.75723338\n",
            " 0.76210457 0.77003442 0.78646053 0.78090964 0.80673829 0.8211253\n",
            " 0.81580097 0.8802593  0.8775405  0.89532601 0.92874466 0.94834271\n",
            " 0.95106151 0.94483092 0.98448016 1.         0.95491315 0.94449107\n",
            " 0.85183984 0.82552445 0.79442209 0.7674526  0.74737608 0.7340225\n",
            " 0.72608322 0.72186399 0.7196452  0.71791089 0.71549594 0.71165496\n",
            " 0.70605683 0.69872373 0.68993932 0.68014187]\n",
            "16 day output [[0.6698288]]\n",
            "17 day input [0.74635816 0.75995219 0.77728457 0.78815979 0.79518337 0.79552322\n",
            " 0.79552322 0.76969457 0.77796427 0.77139382 0.75598726 0.75462786\n",
            " 0.74919025 0.7577998  0.7687883  0.78634725 0.77830412 0.76935472\n",
            " 0.76890158 0.77864397 0.79110516 0.777058   0.76414368 0.76346397\n",
            " 0.73956115 0.70580265 0.70365027 0.65924312 0.65425865 0.65765715\n",
            " 0.68711087 0.70886131 0.73083832 0.71418564 0.74409249 0.74647144\n",
            " 0.73650249 0.75406144 0.77932367 0.79019889 0.81047664 0.80719142\n",
            " 0.80537888 0.7963162  0.78124949 0.76958129 0.77026099 0.77320636\n",
            " 0.77592516 0.74227995 0.74329951 0.72857265 0.72426787 0.72449444\n",
            " 0.70466982 0.67997401 0.70387683 0.75315517 0.74919025 0.75122935\n",
            " 0.76527651 0.76550308 0.74590503 0.75576069 0.75723338 0.76210457\n",
            " 0.77003442 0.78646053 0.78090964 0.80673829 0.8211253  0.81580097\n",
            " 0.8802593  0.8775405  0.89532601 0.92874466 0.94834271 0.95106151\n",
            " 0.94483092 0.98448016 1.         0.95491315 0.94449107 0.85183984\n",
            " 0.82552445 0.79442209 0.7674526  0.74737608 0.7340225  0.72608322\n",
            " 0.72186399 0.7196452  0.71791089 0.71549594 0.71165496 0.70605683\n",
            " 0.69872373 0.68993932 0.68014187 0.66982877]\n",
            "17 day output [[0.6594718]]\n",
            "18 day input [0.75995219 0.77728457 0.78815979 0.79518337 0.79552322 0.79552322\n",
            " 0.76969457 0.77796427 0.77139382 0.75598726 0.75462786 0.74919025\n",
            " 0.7577998  0.7687883  0.78634725 0.77830412 0.76935472 0.76890158\n",
            " 0.77864397 0.79110516 0.777058   0.76414368 0.76346397 0.73956115\n",
            " 0.70580265 0.70365027 0.65924312 0.65425865 0.65765715 0.68711087\n",
            " 0.70886131 0.73083832 0.71418564 0.74409249 0.74647144 0.73650249\n",
            " 0.75406144 0.77932367 0.79019889 0.81047664 0.80719142 0.80537888\n",
            " 0.7963162  0.78124949 0.76958129 0.77026099 0.77320636 0.77592516\n",
            " 0.74227995 0.74329951 0.72857265 0.72426787 0.72449444 0.70466982\n",
            " 0.67997401 0.70387683 0.75315517 0.74919025 0.75122935 0.76527651\n",
            " 0.76550308 0.74590503 0.75576069 0.75723338 0.76210457 0.77003442\n",
            " 0.78646053 0.78090964 0.80673829 0.8211253  0.81580097 0.8802593\n",
            " 0.8775405  0.89532601 0.92874466 0.94834271 0.95106151 0.94483092\n",
            " 0.98448016 1.         0.95491315 0.94449107 0.85183984 0.82552445\n",
            " 0.79442209 0.7674526  0.74737608 0.7340225  0.72608322 0.72186399\n",
            " 0.7196452  0.71791089 0.71549594 0.71165496 0.70605683 0.69872373\n",
            " 0.68993932 0.68014187 0.66982877 0.65947181]\n",
            "18 day output [[0.64946103]]\n",
            "19 day input [0.77728457 0.78815979 0.79518337 0.79552322 0.79552322 0.76969457\n",
            " 0.77796427 0.77139382 0.75598726 0.75462786 0.74919025 0.7577998\n",
            " 0.7687883  0.78634725 0.77830412 0.76935472 0.76890158 0.77864397\n",
            " 0.79110516 0.777058   0.76414368 0.76346397 0.73956115 0.70580265\n",
            " 0.70365027 0.65924312 0.65425865 0.65765715 0.68711087 0.70886131\n",
            " 0.73083832 0.71418564 0.74409249 0.74647144 0.73650249 0.75406144\n",
            " 0.77932367 0.79019889 0.81047664 0.80719142 0.80537888 0.7963162\n",
            " 0.78124949 0.76958129 0.77026099 0.77320636 0.77592516 0.74227995\n",
            " 0.74329951 0.72857265 0.72426787 0.72449444 0.70466982 0.67997401\n",
            " 0.70387683 0.75315517 0.74919025 0.75122935 0.76527651 0.76550308\n",
            " 0.74590503 0.75576069 0.75723338 0.76210457 0.77003442 0.78646053\n",
            " 0.78090964 0.80673829 0.8211253  0.81580097 0.8802593  0.8775405\n",
            " 0.89532601 0.92874466 0.94834271 0.95106151 0.94483092 0.98448016\n",
            " 1.         0.95491315 0.94449107 0.85183984 0.82552445 0.79442209\n",
            " 0.7674526  0.74737608 0.7340225  0.72608322 0.72186399 0.7196452\n",
            " 0.71791089 0.71549594 0.71165496 0.70605683 0.69872373 0.68993932\n",
            " 0.68014187 0.66982877 0.65947181 0.64946103]\n",
            "19 day output [[0.6400706]]\n",
            "20 day input [0.78815979 0.79518337 0.79552322 0.79552322 0.76969457 0.77796427\n",
            " 0.77139382 0.75598726 0.75462786 0.74919025 0.7577998  0.7687883\n",
            " 0.78634725 0.77830412 0.76935472 0.76890158 0.77864397 0.79110516\n",
            " 0.777058   0.76414368 0.76346397 0.73956115 0.70580265 0.70365027\n",
            " 0.65924312 0.65425865 0.65765715 0.68711087 0.70886131 0.73083832\n",
            " 0.71418564 0.74409249 0.74647144 0.73650249 0.75406144 0.77932367\n",
            " 0.79019889 0.81047664 0.80719142 0.80537888 0.7963162  0.78124949\n",
            " 0.76958129 0.77026099 0.77320636 0.77592516 0.74227995 0.74329951\n",
            " 0.72857265 0.72426787 0.72449444 0.70466982 0.67997401 0.70387683\n",
            " 0.75315517 0.74919025 0.75122935 0.76527651 0.76550308 0.74590503\n",
            " 0.75576069 0.75723338 0.76210457 0.77003442 0.78646053 0.78090964\n",
            " 0.80673829 0.8211253  0.81580097 0.8802593  0.8775405  0.89532601\n",
            " 0.92874466 0.94834271 0.95106151 0.94483092 0.98448016 1.\n",
            " 0.95491315 0.94449107 0.85183984 0.82552445 0.79442209 0.7674526\n",
            " 0.74737608 0.7340225  0.72608322 0.72186399 0.7196452  0.71791089\n",
            " 0.71549594 0.71165496 0.70605683 0.69872373 0.68993932 0.68014187\n",
            " 0.66982877 0.65947181 0.64946103 0.64007062]\n",
            "20 day output [[0.6314484]]\n",
            "21 day input [0.79518337 0.79552322 0.79552322 0.76969457 0.77796427 0.77139382\n",
            " 0.75598726 0.75462786 0.74919025 0.7577998  0.7687883  0.78634725\n",
            " 0.77830412 0.76935472 0.76890158 0.77864397 0.79110516 0.777058\n",
            " 0.76414368 0.76346397 0.73956115 0.70580265 0.70365027 0.65924312\n",
            " 0.65425865 0.65765715 0.68711087 0.70886131 0.73083832 0.71418564\n",
            " 0.74409249 0.74647144 0.73650249 0.75406144 0.77932367 0.79019889\n",
            " 0.81047664 0.80719142 0.80537888 0.7963162  0.78124949 0.76958129\n",
            " 0.77026099 0.77320636 0.77592516 0.74227995 0.74329951 0.72857265\n",
            " 0.72426787 0.72449444 0.70466982 0.67997401 0.70387683 0.75315517\n",
            " 0.74919025 0.75122935 0.76527651 0.76550308 0.74590503 0.75576069\n",
            " 0.75723338 0.76210457 0.77003442 0.78646053 0.78090964 0.80673829\n",
            " 0.8211253  0.81580097 0.8802593  0.8775405  0.89532601 0.92874466\n",
            " 0.94834271 0.95106151 0.94483092 0.98448016 1.         0.95491315\n",
            " 0.94449107 0.85183984 0.82552445 0.79442209 0.7674526  0.74737608\n",
            " 0.7340225  0.72608322 0.72186399 0.7196452  0.71791089 0.71549594\n",
            " 0.71165496 0.70605683 0.69872373 0.68993932 0.68014187 0.66982877\n",
            " 0.65947181 0.64946103 0.64007062 0.63144839]\n",
            "21 day output [[0.62362576]]\n",
            "22 day input [0.79552322 0.79552322 0.76969457 0.77796427 0.77139382 0.75598726\n",
            " 0.75462786 0.74919025 0.7577998  0.7687883  0.78634725 0.77830412\n",
            " 0.76935472 0.76890158 0.77864397 0.79110516 0.777058   0.76414368\n",
            " 0.76346397 0.73956115 0.70580265 0.70365027 0.65924312 0.65425865\n",
            " 0.65765715 0.68711087 0.70886131 0.73083832 0.71418564 0.74409249\n",
            " 0.74647144 0.73650249 0.75406144 0.77932367 0.79019889 0.81047664\n",
            " 0.80719142 0.80537888 0.7963162  0.78124949 0.76958129 0.77026099\n",
            " 0.77320636 0.77592516 0.74227995 0.74329951 0.72857265 0.72426787\n",
            " 0.72449444 0.70466982 0.67997401 0.70387683 0.75315517 0.74919025\n",
            " 0.75122935 0.76527651 0.76550308 0.74590503 0.75576069 0.75723338\n",
            " 0.76210457 0.77003442 0.78646053 0.78090964 0.80673829 0.8211253\n",
            " 0.81580097 0.8802593  0.8775405  0.89532601 0.92874466 0.94834271\n",
            " 0.95106151 0.94483092 0.98448016 1.         0.95491315 0.94449107\n",
            " 0.85183984 0.82552445 0.79442209 0.7674526  0.74737608 0.7340225\n",
            " 0.72608322 0.72186399 0.7196452  0.71791089 0.71549594 0.71165496\n",
            " 0.70605683 0.69872373 0.68993932 0.68014187 0.66982877 0.65947181\n",
            " 0.64946103 0.64007062 0.63144839 0.62362576]\n",
            "22 day output [[0.6165397]]\n",
            "23 day input [0.79552322 0.76969457 0.77796427 0.77139382 0.75598726 0.75462786\n",
            " 0.74919025 0.7577998  0.7687883  0.78634725 0.77830412 0.76935472\n",
            " 0.76890158 0.77864397 0.79110516 0.777058   0.76414368 0.76346397\n",
            " 0.73956115 0.70580265 0.70365027 0.65924312 0.65425865 0.65765715\n",
            " 0.68711087 0.70886131 0.73083832 0.71418564 0.74409249 0.74647144\n",
            " 0.73650249 0.75406144 0.77932367 0.79019889 0.81047664 0.80719142\n",
            " 0.80537888 0.7963162  0.78124949 0.76958129 0.77026099 0.77320636\n",
            " 0.77592516 0.74227995 0.74329951 0.72857265 0.72426787 0.72449444\n",
            " 0.70466982 0.67997401 0.70387683 0.75315517 0.74919025 0.75122935\n",
            " 0.76527651 0.76550308 0.74590503 0.75576069 0.75723338 0.76210457\n",
            " 0.77003442 0.78646053 0.78090964 0.80673829 0.8211253  0.81580097\n",
            " 0.8802593  0.8775405  0.89532601 0.92874466 0.94834271 0.95106151\n",
            " 0.94483092 0.98448016 1.         0.95491315 0.94449107 0.85183984\n",
            " 0.82552445 0.79442209 0.7674526  0.74737608 0.7340225  0.72608322\n",
            " 0.72186399 0.7196452  0.71791089 0.71549594 0.71165496 0.70605683\n",
            " 0.69872373 0.68993932 0.68014187 0.66982877 0.65947181 0.64946103\n",
            " 0.64007062 0.63144839 0.62362576 0.61653972]\n",
            "23 day output [[0.6100621]]\n",
            "24 day input [0.76969457 0.77796427 0.77139382 0.75598726 0.75462786 0.74919025\n",
            " 0.7577998  0.7687883  0.78634725 0.77830412 0.76935472 0.76890158\n",
            " 0.77864397 0.79110516 0.777058   0.76414368 0.76346397 0.73956115\n",
            " 0.70580265 0.70365027 0.65924312 0.65425865 0.65765715 0.68711087\n",
            " 0.70886131 0.73083832 0.71418564 0.74409249 0.74647144 0.73650249\n",
            " 0.75406144 0.77932367 0.79019889 0.81047664 0.80719142 0.80537888\n",
            " 0.7963162  0.78124949 0.76958129 0.77026099 0.77320636 0.77592516\n",
            " 0.74227995 0.74329951 0.72857265 0.72426787 0.72449444 0.70466982\n",
            " 0.67997401 0.70387683 0.75315517 0.74919025 0.75122935 0.76527651\n",
            " 0.76550308 0.74590503 0.75576069 0.75723338 0.76210457 0.77003442\n",
            " 0.78646053 0.78090964 0.80673829 0.8211253  0.81580097 0.8802593\n",
            " 0.8775405  0.89532601 0.92874466 0.94834271 0.95106151 0.94483092\n",
            " 0.98448016 1.         0.95491315 0.94449107 0.85183984 0.82552445\n",
            " 0.79442209 0.7674526  0.74737608 0.7340225  0.72608322 0.72186399\n",
            " 0.7196452  0.71791089 0.71549594 0.71165496 0.70605683 0.69872373\n",
            " 0.68993932 0.68014187 0.66982877 0.65947181 0.64946103 0.64007062\n",
            " 0.63144839 0.62362576 0.61653972 0.61006212]\n",
            "24 day output [[0.60403174]]\n",
            "25 day input [0.77796427 0.77139382 0.75598726 0.75462786 0.74919025 0.7577998\n",
            " 0.7687883  0.78634725 0.77830412 0.76935472 0.76890158 0.77864397\n",
            " 0.79110516 0.777058   0.76414368 0.76346397 0.73956115 0.70580265\n",
            " 0.70365027 0.65924312 0.65425865 0.65765715 0.68711087 0.70886131\n",
            " 0.73083832 0.71418564 0.74409249 0.74647144 0.73650249 0.75406144\n",
            " 0.77932367 0.79019889 0.81047664 0.80719142 0.80537888 0.7963162\n",
            " 0.78124949 0.76958129 0.77026099 0.77320636 0.77592516 0.74227995\n",
            " 0.74329951 0.72857265 0.72426787 0.72449444 0.70466982 0.67997401\n",
            " 0.70387683 0.75315517 0.74919025 0.75122935 0.76527651 0.76550308\n",
            " 0.74590503 0.75576069 0.75723338 0.76210457 0.77003442 0.78646053\n",
            " 0.78090964 0.80673829 0.8211253  0.81580097 0.8802593  0.8775405\n",
            " 0.89532601 0.92874466 0.94834271 0.95106151 0.94483092 0.98448016\n",
            " 1.         0.95491315 0.94449107 0.85183984 0.82552445 0.79442209\n",
            " 0.7674526  0.74737608 0.7340225  0.72608322 0.72186399 0.7196452\n",
            " 0.71791089 0.71549594 0.71165496 0.70605683 0.69872373 0.68993932\n",
            " 0.68014187 0.66982877 0.65947181 0.64946103 0.64007062 0.63144839\n",
            " 0.62362576 0.61653972 0.61006212 0.60403174]\n",
            "25 day output [[0.59828144]]\n",
            "26 day input [0.77139382 0.75598726 0.75462786 0.74919025 0.7577998  0.7687883\n",
            " 0.78634725 0.77830412 0.76935472 0.76890158 0.77864397 0.79110516\n",
            " 0.777058   0.76414368 0.76346397 0.73956115 0.70580265 0.70365027\n",
            " 0.65924312 0.65425865 0.65765715 0.68711087 0.70886131 0.73083832\n",
            " 0.71418564 0.74409249 0.74647144 0.73650249 0.75406144 0.77932367\n",
            " 0.79019889 0.81047664 0.80719142 0.80537888 0.7963162  0.78124949\n",
            " 0.76958129 0.77026099 0.77320636 0.77592516 0.74227995 0.74329951\n",
            " 0.72857265 0.72426787 0.72449444 0.70466982 0.67997401 0.70387683\n",
            " 0.75315517 0.74919025 0.75122935 0.76527651 0.76550308 0.74590503\n",
            " 0.75576069 0.75723338 0.76210457 0.77003442 0.78646053 0.78090964\n",
            " 0.80673829 0.8211253  0.81580097 0.8802593  0.8775405  0.89532601\n",
            " 0.92874466 0.94834271 0.95106151 0.94483092 0.98448016 1.\n",
            " 0.95491315 0.94449107 0.85183984 0.82552445 0.79442209 0.7674526\n",
            " 0.74737608 0.7340225  0.72608322 0.72186399 0.7196452  0.71791089\n",
            " 0.71549594 0.71165496 0.70605683 0.69872373 0.68993932 0.68014187\n",
            " 0.66982877 0.65947181 0.64946103 0.64007062 0.63144839 0.62362576\n",
            " 0.61653972 0.61006212 0.60403174 0.59828144]\n",
            "26 day output [[0.5926602]]\n",
            "27 day input [0.75598726 0.75462786 0.74919025 0.7577998  0.7687883  0.78634725\n",
            " 0.77830412 0.76935472 0.76890158 0.77864397 0.79110516 0.777058\n",
            " 0.76414368 0.76346397 0.73956115 0.70580265 0.70365027 0.65924312\n",
            " 0.65425865 0.65765715 0.68711087 0.70886131 0.73083832 0.71418564\n",
            " 0.74409249 0.74647144 0.73650249 0.75406144 0.77932367 0.79019889\n",
            " 0.81047664 0.80719142 0.80537888 0.7963162  0.78124949 0.76958129\n",
            " 0.77026099 0.77320636 0.77592516 0.74227995 0.74329951 0.72857265\n",
            " 0.72426787 0.72449444 0.70466982 0.67997401 0.70387683 0.75315517\n",
            " 0.74919025 0.75122935 0.76527651 0.76550308 0.74590503 0.75576069\n",
            " 0.75723338 0.76210457 0.77003442 0.78646053 0.78090964 0.80673829\n",
            " 0.8211253  0.81580097 0.8802593  0.8775405  0.89532601 0.92874466\n",
            " 0.94834271 0.95106151 0.94483092 0.98448016 1.         0.95491315\n",
            " 0.94449107 0.85183984 0.82552445 0.79442209 0.7674526  0.74737608\n",
            " 0.7340225  0.72608322 0.72186399 0.7196452  0.71791089 0.71549594\n",
            " 0.71165496 0.70605683 0.69872373 0.68993932 0.68014187 0.66982877\n",
            " 0.65947181 0.64946103 0.64007062 0.63144839 0.62362576 0.61653972\n",
            " 0.61006212 0.60403174 0.59828144 0.59266019]\n",
            "27 day output [[0.58704895]]\n",
            "28 day input [0.75462786 0.74919025 0.7577998  0.7687883  0.78634725 0.77830412\n",
            " 0.76935472 0.76890158 0.77864397 0.79110516 0.777058   0.76414368\n",
            " 0.76346397 0.73956115 0.70580265 0.70365027 0.65924312 0.65425865\n",
            " 0.65765715 0.68711087 0.70886131 0.73083832 0.71418564 0.74409249\n",
            " 0.74647144 0.73650249 0.75406144 0.77932367 0.79019889 0.81047664\n",
            " 0.80719142 0.80537888 0.7963162  0.78124949 0.76958129 0.77026099\n",
            " 0.77320636 0.77592516 0.74227995 0.74329951 0.72857265 0.72426787\n",
            " 0.72449444 0.70466982 0.67997401 0.70387683 0.75315517 0.74919025\n",
            " 0.75122935 0.76527651 0.76550308 0.74590503 0.75576069 0.75723338\n",
            " 0.76210457 0.77003442 0.78646053 0.78090964 0.80673829 0.8211253\n",
            " 0.81580097 0.8802593  0.8775405  0.89532601 0.92874466 0.94834271\n",
            " 0.95106151 0.94483092 0.98448016 1.         0.95491315 0.94449107\n",
            " 0.85183984 0.82552445 0.79442209 0.7674526  0.74737608 0.7340225\n",
            " 0.72608322 0.72186399 0.7196452  0.71791089 0.71549594 0.71165496\n",
            " 0.70605683 0.69872373 0.68993932 0.68014187 0.66982877 0.65947181\n",
            " 0.64946103 0.64007062 0.63144839 0.62362576 0.61653972 0.61006212\n",
            " 0.60403174 0.59828144 0.59266019 0.58704895]\n",
            "28 day output [[0.5813658]]\n",
            "29 day input [0.74919025 0.7577998  0.7687883  0.78634725 0.77830412 0.76935472\n",
            " 0.76890158 0.77864397 0.79110516 0.777058   0.76414368 0.76346397\n",
            " 0.73956115 0.70580265 0.70365027 0.65924312 0.65425865 0.65765715\n",
            " 0.68711087 0.70886131 0.73083832 0.71418564 0.74409249 0.74647144\n",
            " 0.73650249 0.75406144 0.77932367 0.79019889 0.81047664 0.80719142\n",
            " 0.80537888 0.7963162  0.78124949 0.76958129 0.77026099 0.77320636\n",
            " 0.77592516 0.74227995 0.74329951 0.72857265 0.72426787 0.72449444\n",
            " 0.70466982 0.67997401 0.70387683 0.75315517 0.74919025 0.75122935\n",
            " 0.76527651 0.76550308 0.74590503 0.75576069 0.75723338 0.76210457\n",
            " 0.77003442 0.78646053 0.78090964 0.80673829 0.8211253  0.81580097\n",
            " 0.8802593  0.8775405  0.89532601 0.92874466 0.94834271 0.95106151\n",
            " 0.94483092 0.98448016 1.         0.95491315 0.94449107 0.85183984\n",
            " 0.82552445 0.79442209 0.7674526  0.74737608 0.7340225  0.72608322\n",
            " 0.72186399 0.7196452  0.71791089 0.71549594 0.71165496 0.70605683\n",
            " 0.69872373 0.68993932 0.68014187 0.66982877 0.65947181 0.64946103\n",
            " 0.64007062 0.63144839 0.62362576 0.61653972 0.61006212 0.60403174\n",
            " 0.59828144 0.59266019 0.58704895 0.58136582]\n",
            "29 day output [[0.57556844]]\n",
            "[[0.8518398404121399], [0.8255244493484497], [0.7944220900535583], [0.767452597618103], [0.7473760843276978], [0.7340224981307983], [0.7260832190513611], [0.7218639850616455], [0.7196452021598816], [0.717910885810852], [0.7154959440231323], [0.7116549611091614], [0.7060568332672119], [0.6987237334251404], [0.6899393200874329], [0.6801418662071228], [0.6698287725448608], [0.6594718098640442], [0.649461030960083], [0.6400706171989441], [0.6314483880996704], [0.6236257553100586], [0.616539716720581], [0.6100621223449707], [0.6040317416191101], [0.5982814431190491], [0.5926601886749268], [0.5870489478111267], [0.5813658237457275], [0.575568437576294]]\n"
          ]
        }
      ]
    },
    {
      "cell_type": "code",
      "metadata": {
        "id": "yLFAj9FfihxD"
      },
      "source": [
        "day_new=np.arange(1,101)\n",
        "day_pred=np.arange(101,131)"
      ],
      "execution_count": null,
      "outputs": []
    },
    {
      "cell_type": "code",
      "metadata": {
        "id": "AdomwjsrihxD"
      },
      "source": [
        "import matplotlib.pyplot as plt"
      ],
      "execution_count": null,
      "outputs": []
    },
    {
      "cell_type": "code",
      "metadata": {
        "colab": {
          "base_uri": "https://localhost:8080/"
        },
        "id": "EyLSqrx6ihxD",
        "outputId": "365b2df9-c58b-42da-98ea-f7676f4029e2"
      },
      "source": [
        "len(df1)"
      ],
      "execution_count": null,
      "outputs": [
        {
          "output_type": "execute_result",
          "data": {
            "text/plain": [
              "807"
            ]
          },
          "metadata": {},
          "execution_count": 49
        }
      ]
    },
    {
      "cell_type": "code",
      "metadata": {
        "id": "hRugQGzcihxD"
      },
      "source": [
        "rt=len(df1)-100"
      ],
      "execution_count": null,
      "outputs": []
    },
    {
      "cell_type": "code",
      "metadata": {
        "colab": {
          "base_uri": "https://localhost:8080/",
          "height": 282
        },
        "id": "npRSy1tAihxE",
        "outputId": "fb63ca85-d00a-4b7b-e45c-ba1cc6f74657"
      },
      "source": [
        "plt.plot(day_new,scaler.inverse_transform(df1[rt:]))\n",
        "plt.plot(day_pred,scaler.inverse_transform(lst_output))"
      ],
      "execution_count": null,
      "outputs": [
        {
          "output_type": "execute_result",
          "data": {
            "text/plain": [
              "[<matplotlib.lines.Line2D at 0x7f494203d9d0>]"
            ]
          },
          "metadata": {},
          "execution_count": 51
        },
        {
          "output_type": "display_data",
          "data": {
            "image/png": "[encoded data removed]",
            "text/plain": [
              "<Figure size 432x288 with 1 Axes>"
            ]
          },
          "metadata": {
            "needs_background": "light"
          }
        }
      ]
    },
    {
      "cell_type": "code",
      "metadata": {
        "colab": {
          "base_uri": "https://localhost:8080/",
          "height": 282
        },
        "id": "3RkGhKvhihxE",
        "outputId": "e3060e3a-9e8e-433f-bc1f-7ebe8b31e6c3"
      },
      "source": [
        "df3=df1.tolist()\n",
        "df3.extend(lst_output)\n",
        "plt.plot(df3[750:])"
      ],
      "execution_count": null,
      "outputs": [
        {
          "output_type": "execute_result",
          "data": {
            "text/plain": [
              "[<matplotlib.lines.Line2D at 0x7f493d7a0810>]"
            ]
          },
          "metadata": {},
          "execution_count": 79
        },
        {
          "output_type": "display_data",
          "data": {
            "image/png": "[encoded data removed]",
            "text/plain": [
              "<Figure size 432x288 with 1 Axes>"
            ]
          },
          "metadata": {
            "needs_background": "light"
          }
        }
      ]
    },
    {
      "cell_type": "code",
      "metadata": {
        "id": "ETr8oU8YihxE"
      },
      "source": [
        "df3=scaler.inverse_transform(df3).tolist()"
      ],
      "execution_count": null,
      "outputs": []
    },
    {
      "cell_type": "code",
      "metadata": {
        "colab": {
          "base_uri": "https://localhost:8080/",
          "height": 282
        },
        "id": "LuYJXDSAihxE",
        "outputId": "1c8437ba-d96d-42d1-ec2f-eba8362da450"
      },
      "source": [
        "plt.plot(df3[750:])"
      ],
      "execution_count": null,
      "outputs": [
        {
          "output_type": "execute_result",
          "data": {
            "text/plain": [
              "[<matplotlib.lines.Line2D at 0x7f493d83ef10>]"
            ]
          },
          "metadata": {},
          "execution_count": 77
        },
        {
          "output_type": "display_data",
          "data": {
            "image/png": "[encoded data removed]",
            "text/plain": [
              "<Figure size 432x288 with 1 Axes>"
            ]
          },
          "metadata": {
            "needs_background": "light"
          }
        }
      ]
    },
    {
      "cell_type": "code",
      "metadata": {
        "id": "RX9x4guzihxE"
      },
      "source": [
        ""
      ],
      "execution_count": null,
      "outputs": []
    }
  ]
}